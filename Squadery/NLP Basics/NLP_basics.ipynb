{
  "nbformat": 4,
  "nbformat_minor": 0,
  "metadata": {
    "colab": {
      "name": "NLP_basics.ipynb",
      "provenance": [],
      "collapsed_sections": []
    },
    "kernelspec": {
      "name": "python3",
      "display_name": "Python 3"
    },
    "language_info": {
      "name": "python"
    }
  },
  "cells": [
    {
      "cell_type": "markdown",
      "source": [
        "### **NLP pipeline:**\n",
        ">NLP is a field of AI in which computer analyze, understand, and derive meaningful informaion of human language. NLP pipeline is set of steps followed to build an end to end NLP software.\n",
        "\n",
        "####*Steps:*\n",
        "1. Data Acquisition\n",
        "2. Text Preprocessing \n",
        "3. Feature Engineering\n",
        "4. Model Building\n",
        "5. Evaluation\n",
        "6. Deployment\n"
      ],
      "metadata": {
        "id": "QZHYaHFuM-yL"
      }
    },
    {
      "cell_type": "markdown",
      "source": [
        "###**Text Preprocessing:** <br>\n",
        "- removing unhelpful parts of data (noise) and making it ready to fed to the model\n",
        "- increases the accuracy of model\n",
        "- used Python libraries: nltk, spacy, textblob\n",
        "\n",
        "#####*Basic Preprocessing:* \n",
        ">HTML tag removal<br>\n",
        "http removal<br>\n",
        "Digits Removal<br>\n",
        "Spelling checker<br>\n",
        "Punctuation Removal\n",
        "\n",
        ">Tokenization<br>\n",
        "Stemming/Lemmatization<br>\n",
        "Stopwords Removal<br>\n",
        "Lowercasing\n",
        "\n",
        ">Pos Tagging<br>\n",
        "Parsing<br>\n",
        "Chunking, Chinking"
      ],
      "metadata": {
        "id": "EmxAZTIAQLvE"
      }
    },
    {
      "cell_type": "markdown",
      "source": [
        "Importing libraries"
      ],
      "metadata": {
        "id": "ylO4czZjOQ_Y"
      }
    },
    {
      "cell_type": "code",
      "execution_count": null,
      "metadata": {
        "id": "PXMQeE5Yu6my"
      },
      "outputs": [],
      "source": [
        "import nltk\n",
        "import re\n",
        "import matplotlib.pyplot as plt\n",
        "%matplotlib inline\n",
        "from textblob import TextBlob\n",
        "from nltk.corpus import stopwords\n",
        "from nltk.tokenize import word_tokenize, sent_tokenize\n",
        "from nltk.stem import PorterStemmer\n",
        "from nltk.stem import WordNetLemmatizer"
      ]
    },
    {
      "cell_type": "markdown",
      "source": [
        "Downloading the required packages"
      ],
      "metadata": {
        "id": "HrR6U75YObiI"
      }
    },
    {
      "cell_type": "code",
      "source": [
        "!pip install svgling # to get the tree for chunked words"
      ],
      "metadata": {
        "colab": {
          "base_uri": "https://localhost:8080/"
        },
        "id": "dc7pX5xwHApG",
        "outputId": "9a6e11e4-3c07-417f-e378-c473b11d2f41"
      },
      "execution_count": null,
      "outputs": [
        {
          "output_type": "stream",
          "name": "stdout",
          "text": [
            "Looking in indexes: https://pypi.org/simple, https://us-python.pkg.dev/colab-wheels/public/simple/\n",
            "Collecting svgling\n",
            "  Downloading svgling-0.3.1-py3-none-any.whl (21 kB)\n",
            "Collecting svgwrite\n",
            "  Downloading svgwrite-1.4.2-py3-none-any.whl (67 kB)\n",
            "\u001b[K     |████████████████████████████████| 67 kB 3.5 MB/s \n",
            "\u001b[?25hInstalling collected packages: svgwrite, svgling\n",
            "Successfully installed svgling-0.3.1 svgwrite-1.4.2\n"
          ]
        }
      ]
    },
    {
      "cell_type": "code",
      "source": [
        "nltk.download('maxent_ne_chunker') # for named entity recognition\n",
        "nltk.download('words')\n",
        "nltk.download('averaged_perceptron_tagger')"
      ],
      "metadata": {
        "colab": {
          "base_uri": "https://localhost:8080/"
        },
        "id": "giapyV6zHeHt",
        "outputId": "651ee290-3800-4a8e-d4ec-40530a235e54"
      },
      "execution_count": null,
      "outputs": [
        {
          "output_type": "stream",
          "name": "stderr",
          "text": [
            "[nltk_data] Downloading package maxent_ne_chunker to\n",
            "[nltk_data]     /root/nltk_data...\n",
            "[nltk_data]   Unzipping chunkers/maxent_ne_chunker.zip.\n",
            "[nltk_data] Downloading package words to /root/nltk_data...\n",
            "[nltk_data]   Unzipping corpora/words.zip.\n",
            "[nltk_data] Downloading package averaged_perceptron_tagger to\n",
            "[nltk_data]     /root/nltk_data...\n",
            "[nltk_data]   Unzipping taggers/averaged_perceptron_tagger.zip.\n"
          ]
        },
        {
          "output_type": "execute_result",
          "data": {
            "text/plain": [
              "True"
            ]
          },
          "metadata": {},
          "execution_count": 4
        }
      ]
    },
    {
      "cell_type": "code",
      "source": [
        "nltk.download('stopwords') #required for stopwords removal"
      ],
      "metadata": {
        "colab": {
          "base_uri": "https://localhost:8080/"
        },
        "id": "4GDD7EPm3YJS",
        "outputId": "99ec7f93-4497-4211-cd90-5663817ca966"
      },
      "execution_count": null,
      "outputs": [
        {
          "output_type": "stream",
          "name": "stderr",
          "text": [
            "[nltk_data] Downloading package stopwords to /root/nltk_data...\n",
            "[nltk_data]   Unzipping corpora/stopwords.zip.\n"
          ]
        },
        {
          "output_type": "execute_result",
          "data": {
            "text/plain": [
              "True"
            ]
          },
          "metadata": {},
          "execution_count": 5
        }
      ]
    },
    {
      "cell_type": "code",
      "source": [
        "nltk.download('punkt') #required for tokenization"
      ],
      "metadata": {
        "colab": {
          "base_uri": "https://localhost:8080/"
        },
        "id": "AuzdunF93pjq",
        "outputId": "26d38a15-6ca8-441a-feb4-4dc362965393"
      },
      "execution_count": null,
      "outputs": [
        {
          "output_type": "stream",
          "name": "stderr",
          "text": [
            "[nltk_data] Downloading package punkt to /root/nltk_data...\n",
            "[nltk_data]   Unzipping tokenizers/punkt.zip.\n"
          ]
        },
        {
          "output_type": "execute_result",
          "data": {
            "text/plain": [
              "True"
            ]
          },
          "metadata": {},
          "execution_count": 6
        }
      ]
    },
    {
      "cell_type": "code",
      "source": [
        "nltk.download('wordnet') #required for lemmaization\n",
        "nltk.download('omw-1.4')"
      ],
      "metadata": {
        "colab": {
          "base_uri": "https://localhost:8080/"
        },
        "id": "HVZiJEb7Alz9",
        "outputId": "8c0954d5-dc90-45c3-df5e-6a64c3f7ed92"
      },
      "execution_count": null,
      "outputs": [
        {
          "output_type": "stream",
          "name": "stderr",
          "text": [
            "[nltk_data] Downloading package wordnet to /root/nltk_data...\n",
            "[nltk_data] Downloading package omw-1.4 to /root/nltk_data...\n"
          ]
        },
        {
          "output_type": "execute_result",
          "data": {
            "text/plain": [
              "True"
            ]
          },
          "metadata": {},
          "execution_count": 7
        }
      ]
    },
    {
      "cell_type": "code",
      "source": [
        "nltk.download('tagsets') #for nltk.help tagset to view the meaning of part-of-speech"
      ],
      "metadata": {
        "colab": {
          "base_uri": "https://localhost:8080/"
        },
        "id": "GgLdfboSE9Jd",
        "outputId": "94e8ce85-93f7-43df-db3e-e5dadbadfcab"
      },
      "execution_count": null,
      "outputs": [
        {
          "output_type": "stream",
          "name": "stderr",
          "text": [
            "[nltk_data] Downloading package tagsets to /root/nltk_data...\n",
            "[nltk_data]   Unzipping help/tagsets.zip.\n"
          ]
        },
        {
          "output_type": "execute_result",
          "data": {
            "text/plain": [
              "True"
            ]
          },
          "metadata": {},
          "execution_count": 8
        }
      ]
    },
    {
      "cell_type": "markdown",
      "source": [
        "Creating the paragraph to work on"
      ],
      "metadata": {
        "id": "PDCZJs1pOisn"
      }
    },
    {
      "cell_type": "code",
      "source": [
        "paragraph = \"Hi, I am learning NLP #ML #DS #NLP. I am playing football. I have a good history. I am better at it. Ram also loves playing football. My instgram name is @kamalgodar. <body> My phone number is 9841959244. </body> My Facebok profil link is: https://www.facebook.com/itskamalgodar\""
      ],
      "metadata": {
        "id": "UmNY_0Xgu_CB"
      },
      "execution_count": null,
      "outputs": []
    },
    {
      "cell_type": "markdown",
      "source": [
        "Html Tags Removal"
      ],
      "metadata": {
        "id": "9xBxFDGYOthA"
      }
    },
    {
      "cell_type": "code",
      "source": [
        "def remove_html_tags(text):\n",
        "  pattern = re.compile('<.*?>')\n",
        "  return pattern.sub(r'', text)"
      ],
      "metadata": {
        "id": "cMxjPR8lxRhg"
      },
      "execution_count": null,
      "outputs": []
    },
    {
      "cell_type": "code",
      "source": [
        "paragraph = remove_html_tags(paragraph)\n",
        "paragraph"
      ],
      "metadata": {
        "colab": {
          "base_uri": "https://localhost:8080/",
          "height": 53
        },
        "id": "kcKeyaEGylsy",
        "outputId": "c0ef09ac-9cdd-49f1-a9b6-2c2db37ea9c9"
      },
      "execution_count": null,
      "outputs": [
        {
          "output_type": "execute_result",
          "data": {
            "text/plain": [
              "'Hi, I am learning NLP #ML #DS #NLP. I am playing football. I am better at it. Ram loves singing song. My instgram name is @kamalgodar.  My phone number is 9841959244.  My Facebok profil link is: https://www.facebook.com/itskamalgodar'"
            ],
            "application/vnd.google.colaboratory.intrinsic+json": {
              "type": "string"
            }
          },
          "metadata": {},
          "execution_count": 11
        }
      ]
    },
    {
      "cell_type": "markdown",
      "source": [
        "URL Removal\n"
      ],
      "metadata": {
        "id": "yhbTIqVCOyZ3"
      }
    },
    {
      "cell_type": "code",
      "source": [
        "def remove_url(text):\n",
        "  pattern = re.compile('https?://\\S+|www\\.S+')\n",
        "  return pattern.sub(r'', text)"
      ],
      "metadata": {
        "id": "bt3ydTdayshQ"
      },
      "execution_count": null,
      "outputs": []
    },
    {
      "cell_type": "code",
      "source": [
        "paragraph = remove_url(paragraph)\n",
        "paragraph"
      ],
      "metadata": {
        "colab": {
          "base_uri": "https://localhost:8080/",
          "height": 53
        },
        "id": "ju4K_bmE1YXx",
        "outputId": "9d3ac93a-368b-471a-86c6-ccc3d79e866e"
      },
      "execution_count": null,
      "outputs": [
        {
          "output_type": "execute_result",
          "data": {
            "text/plain": [
              "'Hi, I am learning NLP #ML #DS #NLP. I am playing football. I am better at it. Ram loves singing song. My instgram name is @kamalgodar.  My phone number is 9841959244.  My Facebok profil link is: '"
            ],
            "application/vnd.google.colaboratory.intrinsic+json": {
              "type": "string"
            }
          },
          "metadata": {},
          "execution_count": 13
        }
      ]
    },
    {
      "cell_type": "markdown",
      "source": [
        " Mentions, Hastags, Numbers, and Punctuations Removal"
      ],
      "metadata": {
        "id": "YfFwCLDdO3MB"
      }
    },
    {
      "cell_type": "code",
      "source": [
        "paragraph = re.sub(\"@[A-Za-z0-9_]+\",\"\", paragraph) # + denotes one or more occurances left to it\n",
        "paragraph = re.sub(\"#[A-Za-z0-9_]+\",\"\", paragraph) # underscore inside [] denotes action is taken for # containing _ also \n",
        "paragraph = re.sub(\"[0-9]\", \"\", paragraph) # numbers has no useful meaning howver it appears in word or sentences\n",
        "paragraph = re.sub(\"[.,:]\", \"\", paragraph) # during tokenization they are tokenized as separate tokens so omitting\n",
        "paragraph"
      ],
      "metadata": {
        "colab": {
          "base_uri": "https://localhost:8080/",
          "height": 35
        },
        "id": "swob7Fke5h_L",
        "outputId": "4f4722e6-38d4-4763-9ca2-3f39a544e652"
      },
      "execution_count": null,
      "outputs": [
        {
          "output_type": "execute_result",
          "data": {
            "text/plain": [
              "'Hi I am learning NLP    I am playing football I am better at it Ram loves singing song My instgram name is   My phone number is   My Facebok profil link is '"
            ],
            "application/vnd.google.colaboratory.intrinsic+json": {
              "type": "string"
            }
          },
          "metadata": {},
          "execution_count": 14
        }
      ]
    },
    {
      "cell_type": "markdown",
      "source": [
        "Removing Punctuations"
      ],
      "metadata": {
        "id": "h7ZYNvvZYiSg"
      }
    },
    {
      "cell_type": "code",
      "source": [
        "import string\n",
        "punc = string.punctuation\n",
        "def remove_punctuation(text):\n",
        "  for char in punc:\n",
        "    text = text.replace(char, '')\n",
        "  return text"
      ],
      "metadata": {
        "id": "34pAZl9yX5rH"
      },
      "execution_count": null,
      "outputs": []
    },
    {
      "cell_type": "markdown",
      "source": [
        " Duplicates Removal"
      ],
      "metadata": {
        "id": "lNB0h-OAPNHY"
      }
    },
    {
      "cell_type": "code",
      "source": [
        "def unique_list(l):\n",
        "    ulist = []\n",
        "    [ulist.append(x) for x in l if x not in ulist]\n",
        "    return ulist\n",
        "    \n",
        "paragraph =' '.join(unique_list(paragraph.split()))\n",
        "paragraph"
      ],
      "metadata": {
        "colab": {
          "base_uri": "https://localhost:8080/",
          "height": 35
        },
        "id": "0NURoYjCDInV",
        "outputId": "7815d91e-8a43-493c-c0c1-fe4ac231a244"
      },
      "execution_count": null,
      "outputs": [
        {
          "output_type": "execute_result",
          "data": {
            "text/plain": [
              "'Hi I am learning NLP playing football better at it Ram loves singing song My instgram name is phone number Facebok profil link'"
            ],
            "application/vnd.google.colaboratory.intrinsic+json": {
              "type": "string"
            }
          },
          "metadata": {},
          "execution_count": 16
        }
      ]
    },
    {
      "cell_type": "markdown",
      "source": [
        " Lowercasing"
      ],
      "metadata": {
        "id": "thLtbqSJPRno"
      }
    },
    {
      "cell_type": "code",
      "source": [
        "paragraph = paragraph.lower()\n",
        "paragraph"
      ],
      "metadata": {
        "colab": {
          "base_uri": "https://localhost:8080/",
          "height": 35
        },
        "id": "6q9BjNkgDcUF",
        "outputId": "cbb3b79d-33ad-4244-b97a-ddfb37310eda"
      },
      "execution_count": null,
      "outputs": [
        {
          "output_type": "execute_result",
          "data": {
            "text/plain": [
              "'hi i am learning nlp playing football better at it ram loves singing song my instgram name is phone number facebok profil link'"
            ],
            "application/vnd.google.colaboratory.intrinsic+json": {
              "type": "string"
            }
          },
          "metadata": {},
          "execution_count": 17
        }
      ]
    },
    {
      "cell_type": "markdown",
      "source": [
        "###Stopwords: <br>\n",
        ">Stopwords are those words that doesnot add any meaning to the text. e.g, be, and, the, a, is, etc <br>\n",
        "\n",
        "###Tokenization: <br>\n",
        "> Tokenization is the process of splitting the text document (phrase, sentence, etc) into smaller units called tokens.\n",
        "\n",
        ">*sentence tokenization:* tokenization of sentence usually by fullstop delimiter<br>\n",
        "*word tokenization:* tokenization of word by space delimiter\n",
        "\n",
        "###Stemming:<br>\n",
        "> Stemming maps words to its stem by removing the suffix and prefix, without giving any value to the meaning. <br>\n",
        "histoy/historical---> histori\n",
        "\n",
        "> PorterStemmer() for english language <br>\n",
        "SnowballStemmetr() for multiple language\n",
        "\n",
        "Application: Spam Classifier, Sentiment Analysis, etc <br>\n",
        "\n",
        "###Lemmatization:<br>\n",
        ">Lemmatization does the same thing as stemming and tries to bring word to its base form keeping in account of actual meaning of word. <br>\n",
        "histoy/historical ---> history <br>\n",
        "going/goes/gone ---> go\n",
        "\n",
        "Application: Chatbot, Q/A application where the response should be meaningful\n",
        "\n",
        "*Lemmatization takes more time than stemming.*\n"
      ],
      "metadata": {
        "id": "YjITLnAWQixO"
      }
    },
    {
      "cell_type": "markdown",
      "source": [
        " Tokenization"
      ],
      "metadata": {
        "id": "M0ZBcBJ-PVPA"
      }
    },
    {
      "cell_type": "code",
      "source": [
        "tokens = word_tokenize(paragraph)\n",
        "tokens"
      ],
      "metadata": {
        "colab": {
          "base_uri": "https://localhost:8080/"
        },
        "id": "K2_SDhOW3eGq",
        "outputId": "dfc34841-ae7f-4eae-de6c-85c06c4ba6b8"
      },
      "execution_count": null,
      "outputs": [
        {
          "output_type": "execute_result",
          "data": {
            "text/plain": [
              "['hi',\n",
              " 'i',\n",
              " 'am',\n",
              " 'learning',\n",
              " 'nlp',\n",
              " 'playing',\n",
              " 'football',\n",
              " 'better',\n",
              " 'at',\n",
              " 'it',\n",
              " 'ram',\n",
              " 'loves',\n",
              " 'singing',\n",
              " 'song',\n",
              " 'my',\n",
              " 'instgram',\n",
              " 'name',\n",
              " 'is',\n",
              " 'phone',\n",
              " 'number',\n",
              " 'facebok',\n",
              " 'profil',\n",
              " 'link']"
            ]
          },
          "metadata": {},
          "execution_count": 18
        }
      ]
    },
    {
      "cell_type": "markdown",
      "source": [
        "StopWord Removal"
      ],
      "metadata": {
        "id": "iCrM7-rcfi3k"
      }
    },
    {
      "cell_type": "code",
      "source": [
        "stop_words = stopwords.words('english')\n",
        "words_without_stopwords = []\n",
        "for word in tokens:\n",
        "  if word in stop_words:\n",
        "    continue\n",
        "  else:\n",
        "    words_without_stopwords.append(word)\n",
        "\n",
        "tokens = words_without_stopwords\n",
        "tokens"
      ],
      "metadata": {
        "colab": {
          "base_uri": "https://localhost:8080/"
        },
        "id": "0YmV71NdfCpU",
        "outputId": "9780e6a4-4ba7-48ff-f27d-ed0cbc3565e6"
      },
      "execution_count": null,
      "outputs": [
        {
          "output_type": "execute_result",
          "data": {
            "text/plain": [
              "['hi',\n",
              " 'learning',\n",
              " 'nlp',\n",
              " 'playing',\n",
              " 'football',\n",
              " 'better',\n",
              " 'ram',\n",
              " 'loves',\n",
              " 'singing',\n",
              " 'song',\n",
              " 'instgram',\n",
              " 'name',\n",
              " 'phone',\n",
              " 'number',\n",
              " 'facebok',\n",
              " 'profil',\n",
              " 'link']"
            ]
          },
          "metadata": {},
          "execution_count": 23
        }
      ]
    },
    {
      "cell_type": "markdown",
      "source": [
        " Stemming"
      ],
      "metadata": {
        "id": "t0TwehVOPYpo"
      }
    },
    {
      "cell_type": "code",
      "source": [
        "stemmer = PorterStemmer()\n",
        "new_tokens0 = []\n",
        "for word in tokens:\n",
        "  new_tokens0.append(stemmer.stem(word))\n",
        "  print(word, '|', stemmer.stem(word))\n",
        "\n",
        "# new_tokens0"
      ],
      "metadata": {
        "colab": {
          "base_uri": "https://localhost:8080/"
        },
        "id": "yphrQbIM_kk0",
        "outputId": "d4437319-3bc7-44cf-820e-60a57cbbab0b"
      },
      "execution_count": null,
      "outputs": [
        {
          "output_type": "stream",
          "name": "stdout",
          "text": [
            "hi | hi\n",
            "learning | learn\n",
            "nlp | nlp\n",
            "playing | play\n",
            "football | footbal\n",
            "better | better\n",
            "ram | ram\n",
            "loves | love\n",
            "singing | sing\n",
            "song | song\n",
            "instgram | instgram\n",
            "name | name\n",
            "phone | phone\n",
            "number | number\n",
            "facebok | facebok\n",
            "profil | profil\n",
            "link | link\n"
          ]
        }
      ]
    },
    {
      "cell_type": "markdown",
      "source": [
        " Lemmatization"
      ],
      "metadata": {
        "id": "Zqrv3p31Pa7_"
      }
    },
    {
      "cell_type": "code",
      "source": [
        "lemmatizer = WordNetLemmatizer()\n",
        "new_tokens = []\n",
        "for word in tokens:\n",
        "  new_tokens.append(lemmatizer.lemmatize(word, pos='v'))\n",
        "  print(word, \"|\", lemmatizer.lemmatize(word, pos='v'))\n",
        "\n",
        "# new_tokens"
      ],
      "metadata": {
        "colab": {
          "base_uri": "https://localhost:8080/"
        },
        "id": "bxgyT4BdAUJD",
        "outputId": "a3f17769-555b-46bd-92d3-6940dd8e30e7"
      },
      "execution_count": null,
      "outputs": [
        {
          "output_type": "stream",
          "name": "stdout",
          "text": [
            "hi | hi\n",
            "i | i\n",
            "am | be\n",
            "learning | learn\n",
            "nlp | nlp\n",
            "playing | play\n",
            "football | football\n",
            "better | better\n",
            "at | at\n",
            "it | it\n",
            "ram | ram\n",
            "loves | love\n",
            "singing | sing\n",
            "song | song\n",
            "my | my\n",
            "instgram | instgram\n",
            "name | name\n",
            "is | be\n",
            "phone | phone\n",
            "number | number\n",
            "facebok | facebok\n",
            "profil | profil\n",
            "link | link\n"
          ]
        }
      ]
    },
    {
      "cell_type": "markdown",
      "source": [
        "Stopwords Removal"
      ],
      "metadata": {
        "id": "vFkftYoPPeUg"
      }
    },
    {
      "cell_type": "markdown",
      "source": [
        "### POS Tagging:\n",
        ">Part of Speech explains how a word is used in a sentence. There are mainly eight parts of speech: nouns, pronouns, adjectives, verbs, adverbs, preposition, conjunctions, and interjections.\n",
        "\n",
        ">Most POS are divided into sub-class.<br>\n",
        "Noun:<br>\n",
        "NN Noun singular ('desk')<br>\n",
        "NNS Noun plural ('desks')<br>\n",
        "NNP proper noun singular ('Kamal')<br>\n",
        "NNPS proper noun plural ('Nepalese')<br>\n",
        "\n",
        ">POS tagging simply means labeling words with their appropriate part of speech. it is a supervised learning solution that\n",
        "uses the features like previous word, next word, first letter capitalized, etc.\n",
        "\n",
        "NLTK has a function to get pos tags and it works after tokenization process.\n",
        "\n",
        "\n",
        "\n",
        "### Chunking: \n",
        ">extracting short phrases from sentence tagged with Part-of-Speech (POS).\n",
        "grouping words into meaningful chunks. (Noun Phrases)<br>\n",
        "It works on top of POS Tagging\n",
        "\n",
        "Noun Phrases: phrases of one or more words that contain a noun, with some descriptive words verbs, adverb etc.\n",
        "\n",
        "Chunk Pattern:\n",
        "In order to chunk we combine POS tags with regular expression. Chunk Patterns are the regular expressions modified to match POS tags.\n",
        "\n",
        "\n",
        "\n",
        "###Chinking:\n",
        ">After chinking, we may have some words in our chunk that we don't want. \n",
        "Chunking is a lot like chunking. It is a way to remove chunk from a chunk. Chunk we remove from the chunk is a chink.\n"
      ],
      "metadata": {
        "id": "vhMyKtNkUFp1"
      }
    },
    {
      "cell_type": "markdown",
      "source": [
        "POS Tagging"
      ],
      "metadata": {
        "id": "2-Zfv71MPiYv"
      }
    },
    {
      "cell_type": "code",
      "source": [
        "tagged = nltk.pos_tag(new_tokens)\n",
        "tagged"
      ],
      "metadata": {
        "colab": {
          "base_uri": "https://localhost:8080/"
        },
        "id": "Ocki8Mwj3Tz7",
        "outputId": "0805d98b-e2e3-4336-9bc7-fcf0cd07cd5e"
      },
      "execution_count": null,
      "outputs": [
        {
          "output_type": "execute_result",
          "data": {
            "text/plain": [
              "[('hi', 'NN'),\n",
              " ('i', 'NN'),\n",
              " ('be', 'VB'),\n",
              " ('learn', 'VBN'),\n",
              " ('nlp', 'JJ'),\n",
              " ('play', 'NN'),\n",
              " ('football', 'NN'),\n",
              " ('better', 'RBR'),\n",
              " ('at', 'IN'),\n",
              " ('it', 'PRP'),\n",
              " ('ram', 'VBZ'),\n",
              " ('love', 'IN'),\n",
              " ('sing', 'NN'),\n",
              " ('song', 'NN'),\n",
              " ('my', 'PRP$'),\n",
              " ('instgram', 'NN'),\n",
              " ('name', 'NN'),\n",
              " ('be', 'VB'),\n",
              " ('phone', 'NN'),\n",
              " ('number', 'NN'),\n",
              " ('facebok', 'JJ'),\n",
              " ('profil', 'NN'),\n",
              " ('link', 'NN')]"
            ]
          },
          "metadata": {},
          "execution_count": 25
        }
      ]
    },
    {
      "cell_type": "code",
      "source": [
        "nltk.help.upenn_tagset(\"PRP$\")"
      ],
      "metadata": {
        "colab": {
          "base_uri": "https://localhost:8080/"
        },
        "id": "3LtiOYruE2st",
        "outputId": "721a8ba5-c1bf-4753-a4ba-2c5fd1d9c7d5"
      },
      "execution_count": null,
      "outputs": [
        {
          "output_type": "stream",
          "name": "stdout",
          "text": [
            "PRP$: pronoun, possessive\n",
            "    her his mine my our ours their thy your\n"
          ]
        }
      ]
    },
    {
      "cell_type": "markdown",
      "source": [
        "Chunking"
      ],
      "metadata": {
        "id": "A46wDt53Plv_"
      }
    },
    {
      "cell_type": "code",
      "source": [
        "chunkpattern = '''Chunk:{<NN.?>*<JJ.?>?}'''\n",
        "chunker = nltk.RegexpParser(chunkpattern)\n",
        "output = chunker.parse(tagged)\n",
        "print(output)\n",
        "output"
      ],
      "metadata": {
        "colab": {
          "base_uri": "https://localhost:8080/",
          "height": 484
        },
        "id": "JGnLXdQ4FHc8",
        "outputId": "01fda03d-dfb6-456d-d06e-0a0ef3d1bc00"
      },
      "execution_count": null,
      "outputs": [
        {
          "output_type": "stream",
          "name": "stdout",
          "text": [
            "(S\n",
            "  (Chunk hi/NN i/NN)\n",
            "  be/VB\n",
            "  learn/VBN\n",
            "  (Chunk nlp/JJ)\n",
            "  (Chunk play/NN football/NN)\n",
            "  better/RBR\n",
            "  at/IN\n",
            "  it/PRP\n",
            "  ram/VBZ\n",
            "  love/IN\n",
            "  (Chunk sing/NN song/NN)\n",
            "  my/PRP$\n",
            "  (Chunk instgram/NN name/NN)\n",
            "  be/VB\n",
            "  (Chunk phone/NN number/NN facebok/JJ)\n",
            "  (Chunk profil/NN link/NN))\n"
          ]
        },
        {
          "output_type": "execute_result",
          "data": {
            "text/plain": [
              "Tree('S', [Tree('Chunk', [('hi', 'NN'), ('i', 'NN')]), ('be', 'VB'), ('learn', 'VBN'), Tree('Chunk', [('nlp', 'JJ')]), Tree('Chunk', [('play', 'NN'), ('football', 'NN')]), ('better', 'RBR'), ('at', 'IN'), ('it', 'PRP'), ('ram', 'VBZ'), ('love', 'IN'), Tree('Chunk', [('sing', 'NN'), ('song', 'NN')]), ('my', 'PRP$'), Tree('Chunk', [('instgram', 'NN'), ('name', 'NN')]), ('be', 'VB'), Tree('Chunk', [('phone', 'NN'), ('number', 'NN'), ('facebok', 'JJ')]), Tree('Chunk', [('profil', 'NN'), ('link', 'NN')])])"
            ],
            "image/svg+xml": "<svg baseProfile=\"full\" height=\"168px\" preserveAspectRatio=\"xMidYMid meet\" style=\"font-family: times, serif; font-weight:normal; font-style: normal; font-size: 16px;\" version=\"1.1\" viewBox=\"0,0,1168.0,168.0\" width=\"1168px\" xmlns=\"http://www.w3.org/2000/svg\" xmlns:ev=\"http://www.w3.org/2001/xml-events\" xmlns:xlink=\"http://www.w3.org/1999/xlink\"><defs /><svg width=\"100%\" x=\"0\" y=\"0em\"><defs /><text text-anchor=\"middle\" x=\"50%\" y=\"1em\">S</text></svg><svg width=\"5.47945%\" x=\"0%\" y=\"3em\"><defs /><svg width=\"100%\" x=\"0\" y=\"0em\"><defs /><text text-anchor=\"middle\" x=\"50%\" y=\"1em\">Chunk</text></svg><svg width=\"50%\" x=\"0%\" y=\"3em\"><defs /><svg width=\"100%\" x=\"0\" y=\"0em\"><defs /><text text-anchor=\"middle\" x=\"50%\" y=\"1em\">hi</text></svg><svg width=\"100%\" x=\"0%\" y=\"3em\"><defs /><svg width=\"100%\" x=\"0\" y=\"0em\"><defs /><text text-anchor=\"middle\" x=\"50%\" y=\"1em\">NN</text></svg></svg><line stroke=\"black\" x1=\"50%\" x2=\"50%\" y1=\"1.2em\" y2=\"3em\" /></svg><line stroke=\"black\" x1=\"50%\" x2=\"25%\" y1=\"1.2em\" y2=\"3em\" /><svg width=\"50%\" x=\"50%\" y=\"3em\"><defs /><svg width=\"100%\" x=\"0\" y=\"0em\"><defs /><text text-anchor=\"middle\" x=\"50%\" y=\"1em\">i</text></svg><svg width=\"100%\" x=\"0%\" y=\"3em\"><defs /><svg width=\"100%\" x=\"0\" y=\"0em\"><defs /><text text-anchor=\"middle\" x=\"50%\" y=\"1em\">NN</text></svg></svg><line stroke=\"black\" x1=\"50%\" x2=\"50%\" y1=\"1.2em\" y2=\"3em\" /></svg><line stroke=\"black\" x1=\"50%\" x2=\"75%\" y1=\"1.2em\" y2=\"3em\" /></svg><line stroke=\"black\" x1=\"50%\" x2=\"2.73973%\" y1=\"1.2em\" y2=\"3em\" /><svg width=\"2.73973%\" x=\"5.47945%\" y=\"3em\"><defs /><svg width=\"100%\" x=\"0\" y=\"0em\"><defs /><text text-anchor=\"middle\" x=\"50%\" y=\"1em\">be</text></svg><svg width=\"100%\" x=\"0%\" y=\"3em\"><defs /><svg width=\"100%\" x=\"0\" y=\"0em\"><defs /><text text-anchor=\"middle\" x=\"50%\" y=\"1em\">VB</text></svg></svg><line stroke=\"black\" x1=\"50%\" x2=\"50%\" y1=\"1.2em\" y2=\"3em\" /></svg><line stroke=\"black\" x1=\"50%\" x2=\"6.84932%\" y1=\"1.2em\" y2=\"3em\" /><svg width=\"4.79452%\" x=\"8.21918%\" y=\"3em\"><defs /><svg width=\"100%\" x=\"0\" y=\"0em\"><defs /><text text-anchor=\"middle\" x=\"50%\" y=\"1em\">learn</text></svg><svg width=\"100%\" x=\"0%\" y=\"3em\"><defs /><svg width=\"100%\" x=\"0\" y=\"0em\"><defs /><text text-anchor=\"middle\" x=\"50%\" y=\"1em\">VBN</text></svg></svg><line stroke=\"black\" x1=\"50%\" x2=\"50%\" y1=\"1.2em\" y2=\"3em\" /></svg><line stroke=\"black\" x1=\"50%\" x2=\"10.6164%\" y1=\"1.2em\" y2=\"3em\" /><svg width=\"4.79452%\" x=\"13.0137%\" y=\"3em\"><defs /><svg width=\"100%\" x=\"0\" y=\"0em\"><defs /><text text-anchor=\"middle\" x=\"50%\" y=\"1em\">Chunk</text></svg><svg width=\"100%\" x=\"0%\" y=\"3em\"><defs /><svg width=\"100%\" x=\"0\" y=\"0em\"><defs /><text text-anchor=\"middle\" x=\"50%\" y=\"1em\">nlp</text></svg><svg width=\"100%\" x=\"0%\" y=\"3em\"><defs /><svg width=\"100%\" x=\"0\" y=\"0em\"><defs /><text text-anchor=\"middle\" x=\"50%\" y=\"1em\">JJ</text></svg></svg><line stroke=\"black\" x1=\"50%\" x2=\"50%\" y1=\"1.2em\" y2=\"3em\" /></svg><line stroke=\"black\" x1=\"50%\" x2=\"50%\" y1=\"1.2em\" y2=\"3em\" /></svg><line stroke=\"black\" x1=\"50%\" x2=\"15.411%\" y1=\"1.2em\" y2=\"3em\" /><svg width=\"10.9589%\" x=\"17.8082%\" y=\"3em\"><defs /><svg width=\"100%\" x=\"0\" y=\"0em\"><defs /><text text-anchor=\"middle\" x=\"50%\" y=\"1em\">Chunk</text></svg><svg width=\"37.5%\" x=\"0%\" y=\"3em\"><defs /><svg width=\"100%\" x=\"0\" y=\"0em\"><defs /><text text-anchor=\"middle\" x=\"50%\" y=\"1em\">play</text></svg><svg width=\"100%\" x=\"0%\" y=\"3em\"><defs /><svg width=\"100%\" x=\"0\" y=\"0em\"><defs /><text text-anchor=\"middle\" x=\"50%\" y=\"1em\">NN</text></svg></svg><line stroke=\"black\" x1=\"50%\" x2=\"50%\" y1=\"1.2em\" y2=\"3em\" /></svg><line stroke=\"black\" x1=\"50%\" x2=\"18.75%\" y1=\"1.2em\" y2=\"3em\" /><svg width=\"62.5%\" x=\"37.5%\" y=\"3em\"><defs /><svg width=\"100%\" x=\"0\" y=\"0em\"><defs /><text text-anchor=\"middle\" x=\"50%\" y=\"1em\">football</text></svg><svg width=\"100%\" x=\"0%\" y=\"3em\"><defs /><svg width=\"100%\" x=\"0\" y=\"0em\"><defs /><text text-anchor=\"middle\" x=\"50%\" y=\"1em\">NN</text></svg></svg><line stroke=\"black\" x1=\"50%\" x2=\"50%\" y1=\"1.2em\" y2=\"3em\" /></svg><line stroke=\"black\" x1=\"50%\" x2=\"68.75%\" y1=\"1.2em\" y2=\"3em\" /></svg><line stroke=\"black\" x1=\"50%\" x2=\"23.2877%\" y1=\"1.2em\" y2=\"3em\" /><svg width=\"5.47945%\" x=\"28.7671%\" y=\"3em\"><defs /><svg width=\"100%\" x=\"0\" y=\"0em\"><defs /><text text-anchor=\"middle\" x=\"50%\" y=\"1em\">better</text></svg><svg width=\"100%\" x=\"0%\" y=\"3em\"><defs /><svg width=\"100%\" x=\"0\" y=\"0em\"><defs /><text text-anchor=\"middle\" x=\"50%\" y=\"1em\">RBR</text></svg></svg><line stroke=\"black\" x1=\"50%\" x2=\"50%\" y1=\"1.2em\" y2=\"3em\" /></svg><line stroke=\"black\" x1=\"50%\" x2=\"31.5068%\" y1=\"1.2em\" y2=\"3em\" /><svg width=\"2.73973%\" x=\"34.2466%\" y=\"3em\"><defs /><svg width=\"100%\" x=\"0\" y=\"0em\"><defs /><text text-anchor=\"middle\" x=\"50%\" y=\"1em\">at</text></svg><svg width=\"100%\" x=\"0%\" y=\"3em\"><defs /><svg width=\"100%\" x=\"0\" y=\"0em\"><defs /><text text-anchor=\"middle\" x=\"50%\" y=\"1em\">IN</text></svg></svg><line stroke=\"black\" x1=\"50%\" x2=\"50%\" y1=\"1.2em\" y2=\"3em\" /></svg><line stroke=\"black\" x1=\"50%\" x2=\"35.6164%\" y1=\"1.2em\" y2=\"3em\" /><svg width=\"3.42466%\" x=\"36.9863%\" y=\"3em\"><defs /><svg width=\"100%\" x=\"0\" y=\"0em\"><defs /><text text-anchor=\"middle\" x=\"50%\" y=\"1em\">it</text></svg><svg width=\"100%\" x=\"0%\" y=\"3em\"><defs /><svg width=\"100%\" x=\"0\" y=\"0em\"><defs /><text text-anchor=\"middle\" x=\"50%\" y=\"1em\">PRP</text></svg></svg><line stroke=\"black\" x1=\"50%\" x2=\"50%\" y1=\"1.2em\" y2=\"3em\" /></svg><line stroke=\"black\" x1=\"50%\" x2=\"38.6986%\" y1=\"1.2em\" y2=\"3em\" /><svg width=\"3.42466%\" x=\"40.411%\" y=\"3em\"><defs /><svg width=\"100%\" x=\"0\" y=\"0em\"><defs /><text text-anchor=\"middle\" x=\"50%\" y=\"1em\">ram</text></svg><svg width=\"100%\" x=\"0%\" y=\"3em\"><defs /><svg width=\"100%\" x=\"0\" y=\"0em\"><defs /><text text-anchor=\"middle\" x=\"50%\" y=\"1em\">VBZ</text></svg></svg><line stroke=\"black\" x1=\"50%\" x2=\"50%\" y1=\"1.2em\" y2=\"3em\" /></svg><line stroke=\"black\" x1=\"50%\" x2=\"42.1233%\" y1=\"1.2em\" y2=\"3em\" /><svg width=\"4.10959%\" x=\"43.8356%\" y=\"3em\"><defs /><svg width=\"100%\" x=\"0\" y=\"0em\"><defs /><text text-anchor=\"middle\" x=\"50%\" y=\"1em\">love</text></svg><svg width=\"100%\" x=\"0%\" y=\"3em\"><defs /><svg width=\"100%\" x=\"0\" y=\"0em\"><defs /><text text-anchor=\"middle\" x=\"50%\" y=\"1em\">IN</text></svg></svg><line stroke=\"black\" x1=\"50%\" x2=\"50%\" y1=\"1.2em\" y2=\"3em\" /></svg><line stroke=\"black\" x1=\"50%\" x2=\"45.8904%\" y1=\"1.2em\" y2=\"3em\" /><svg width=\"8.21918%\" x=\"47.9452%\" y=\"3em\"><defs /><svg width=\"100%\" x=\"0\" y=\"0em\"><defs /><text text-anchor=\"middle\" x=\"50%\" y=\"1em\">Chunk</text></svg><svg width=\"50%\" x=\"0%\" y=\"3em\"><defs /><svg width=\"100%\" x=\"0\" y=\"0em\"><defs /><text text-anchor=\"middle\" x=\"50%\" y=\"1em\">sing</text></svg><svg width=\"100%\" x=\"0%\" y=\"3em\"><defs /><svg width=\"100%\" x=\"0\" y=\"0em\"><defs /><text text-anchor=\"middle\" x=\"50%\" y=\"1em\">NN</text></svg></svg><line stroke=\"black\" x1=\"50%\" x2=\"50%\" y1=\"1.2em\" y2=\"3em\" /></svg><line stroke=\"black\" x1=\"50%\" x2=\"25%\" y1=\"1.2em\" y2=\"3em\" /><svg width=\"50%\" x=\"50%\" y=\"3em\"><defs /><svg width=\"100%\" x=\"0\" y=\"0em\"><defs /><text text-anchor=\"middle\" x=\"50%\" y=\"1em\">song</text></svg><svg width=\"100%\" x=\"0%\" y=\"3em\"><defs /><svg width=\"100%\" x=\"0\" y=\"0em\"><defs /><text text-anchor=\"middle\" x=\"50%\" y=\"1em\">NN</text></svg></svg><line stroke=\"black\" x1=\"50%\" x2=\"50%\" y1=\"1.2em\" y2=\"3em\" /></svg><line stroke=\"black\" x1=\"50%\" x2=\"75%\" y1=\"1.2em\" y2=\"3em\" /></svg><line stroke=\"black\" x1=\"50%\" x2=\"52.0548%\" y1=\"1.2em\" y2=\"3em\" /><svg width=\"4.10959%\" x=\"56.1644%\" y=\"3em\"><defs /><svg width=\"100%\" x=\"0\" y=\"0em\"><defs /><text text-anchor=\"middle\" x=\"50%\" y=\"1em\">my</text></svg><svg width=\"100%\" x=\"0%\" y=\"3em\"><defs /><svg width=\"100%\" x=\"0\" y=\"0em\"><defs /><text text-anchor=\"middle\" x=\"50%\" y=\"1em\">PRP$</text></svg></svg><line stroke=\"black\" x1=\"50%\" x2=\"50%\" y1=\"1.2em\" y2=\"3em\" /></svg><line stroke=\"black\" x1=\"50%\" x2=\"58.2192%\" y1=\"1.2em\" y2=\"3em\" /><svg width=\"10.9589%\" x=\"60.274%\" y=\"3em\"><defs /><svg width=\"100%\" x=\"0\" y=\"0em\"><defs /><text text-anchor=\"middle\" x=\"50%\" y=\"1em\">Chunk</text></svg><svg width=\"62.5%\" x=\"0%\" y=\"3em\"><defs /><svg width=\"100%\" x=\"0\" y=\"0em\"><defs /><text text-anchor=\"middle\" x=\"50%\" y=\"1em\">instgram</text></svg><svg width=\"100%\" x=\"0%\" y=\"3em\"><defs /><svg width=\"100%\" x=\"0\" y=\"0em\"><defs /><text text-anchor=\"middle\" x=\"50%\" y=\"1em\">NN</text></svg></svg><line stroke=\"black\" x1=\"50%\" x2=\"50%\" y1=\"1.2em\" y2=\"3em\" /></svg><line stroke=\"black\" x1=\"50%\" x2=\"31.25%\" y1=\"1.2em\" y2=\"3em\" /><svg width=\"37.5%\" x=\"62.5%\" y=\"3em\"><defs /><svg width=\"100%\" x=\"0\" y=\"0em\"><defs /><text text-anchor=\"middle\" x=\"50%\" y=\"1em\">name</text></svg><svg width=\"100%\" x=\"0%\" y=\"3em\"><defs /><svg width=\"100%\" x=\"0\" y=\"0em\"><defs /><text text-anchor=\"middle\" x=\"50%\" y=\"1em\">NN</text></svg></svg><line stroke=\"black\" x1=\"50%\" x2=\"50%\" y1=\"1.2em\" y2=\"3em\" /></svg><line stroke=\"black\" x1=\"50%\" x2=\"81.25%\" y1=\"1.2em\" y2=\"3em\" /></svg><line stroke=\"black\" x1=\"50%\" x2=\"65.7534%\" y1=\"1.2em\" y2=\"3em\" /><svg width=\"2.73973%\" x=\"71.2329%\" y=\"3em\"><defs /><svg width=\"100%\" x=\"0\" y=\"0em\"><defs /><text text-anchor=\"middle\" x=\"50%\" y=\"1em\">be</text></svg><svg width=\"100%\" x=\"0%\" y=\"3em\"><defs /><svg width=\"100%\" x=\"0\" y=\"0em\"><defs /><text text-anchor=\"middle\" x=\"50%\" y=\"1em\">VB</text></svg></svg><line stroke=\"black\" x1=\"50%\" x2=\"50%\" y1=\"1.2em\" y2=\"3em\" /></svg><line stroke=\"black\" x1=\"50%\" x2=\"72.6027%\" y1=\"1.2em\" y2=\"3em\" /><svg width=\"16.4384%\" x=\"73.9726%\" y=\"3em\"><defs /><svg width=\"100%\" x=\"0\" y=\"0em\"><defs /><text text-anchor=\"middle\" x=\"50%\" y=\"1em\">Chunk</text></svg><svg width=\"29.1667%\" x=\"0%\" y=\"3em\"><defs /><svg width=\"100%\" x=\"0\" y=\"0em\"><defs /><text text-anchor=\"middle\" x=\"50%\" y=\"1em\">phone</text></svg><svg width=\"100%\" x=\"0%\" y=\"3em\"><defs /><svg width=\"100%\" x=\"0\" y=\"0em\"><defs /><text text-anchor=\"middle\" x=\"50%\" y=\"1em\">NN</text></svg></svg><line stroke=\"black\" x1=\"50%\" x2=\"50%\" y1=\"1.2em\" y2=\"3em\" /></svg><line stroke=\"black\" x1=\"50%\" x2=\"14.5833%\" y1=\"1.2em\" y2=\"3em\" /><svg width=\"33.3333%\" x=\"29.1667%\" y=\"3em\"><defs /><svg width=\"100%\" x=\"0\" y=\"0em\"><defs /><text text-anchor=\"middle\" x=\"50%\" y=\"1em\">number</text></svg><svg width=\"100%\" x=\"0%\" y=\"3em\"><defs /><svg width=\"100%\" x=\"0\" y=\"0em\"><defs /><text text-anchor=\"middle\" x=\"50%\" y=\"1em\">NN</text></svg></svg><line stroke=\"black\" x1=\"50%\" x2=\"50%\" y1=\"1.2em\" y2=\"3em\" /></svg><line stroke=\"black\" x1=\"50%\" x2=\"45.8333%\" y1=\"1.2em\" y2=\"3em\" /><svg width=\"37.5%\" x=\"62.5%\" y=\"3em\"><defs /><svg width=\"100%\" x=\"0\" y=\"0em\"><defs /><text text-anchor=\"middle\" x=\"50%\" y=\"1em\">facebok</text></svg><svg width=\"100%\" x=\"0%\" y=\"3em\"><defs /><svg width=\"100%\" x=\"0\" y=\"0em\"><defs /><text text-anchor=\"middle\" x=\"50%\" y=\"1em\">JJ</text></svg></svg><line stroke=\"black\" x1=\"50%\" x2=\"50%\" y1=\"1.2em\" y2=\"3em\" /></svg><line stroke=\"black\" x1=\"50%\" x2=\"81.25%\" y1=\"1.2em\" y2=\"3em\" /></svg><line stroke=\"black\" x1=\"50%\" x2=\"82.1918%\" y1=\"1.2em\" y2=\"3em\" /><svg width=\"9.58904%\" x=\"90.411%\" y=\"3em\"><defs /><svg width=\"100%\" x=\"0\" y=\"0em\"><defs /><text text-anchor=\"middle\" x=\"50%\" y=\"1em\">Chunk</text></svg><svg width=\"57.1429%\" x=\"0%\" y=\"3em\"><defs /><svg width=\"100%\" x=\"0\" y=\"0em\"><defs /><text text-anchor=\"middle\" x=\"50%\" y=\"1em\">profil</text></svg><svg width=\"100%\" x=\"0%\" y=\"3em\"><defs /><svg width=\"100%\" x=\"0\" y=\"0em\"><defs /><text text-anchor=\"middle\" x=\"50%\" y=\"1em\">NN</text></svg></svg><line stroke=\"black\" x1=\"50%\" x2=\"50%\" y1=\"1.2em\" y2=\"3em\" /></svg><line stroke=\"black\" x1=\"50%\" x2=\"28.5714%\" y1=\"1.2em\" y2=\"3em\" /><svg width=\"42.8571%\" x=\"57.1429%\" y=\"3em\"><defs /><svg width=\"100%\" x=\"0\" y=\"0em\"><defs /><text text-anchor=\"middle\" x=\"50%\" y=\"1em\">link</text></svg><svg width=\"100%\" x=\"0%\" y=\"3em\"><defs /><svg width=\"100%\" x=\"0\" y=\"0em\"><defs /><text text-anchor=\"middle\" x=\"50%\" y=\"1em\">NN</text></svg></svg><line stroke=\"black\" x1=\"50%\" x2=\"50%\" y1=\"1.2em\" y2=\"3em\" /></svg><line stroke=\"black\" x1=\"50%\" x2=\"78.5714%\" y1=\"1.2em\" y2=\"3em\" /></svg><line stroke=\"black\" x1=\"50%\" x2=\"95.2055%\" y1=\"1.2em\" y2=\"3em\" /></svg>"
          },
          "metadata": {},
          "execution_count": 27
        }
      ]
    },
    {
      "cell_type": "markdown",
      "source": [
        "Chinking"
      ],
      "metadata": {
        "id": "NrT2dHsCPodo"
      }
    },
    {
      "cell_type": "code",
      "source": [
        "chinkpattern = '''Chunk:{<NN.?>*<JJ.?>?}\n",
        "                        }<JJ>{'''"
      ],
      "metadata": {
        "id": "PweKEYgSGMAl"
      },
      "execution_count": null,
      "outputs": []
    },
    {
      "cell_type": "code",
      "source": [
        "chinker = nltk.RegexpParser(chinkpattern)\n",
        "output1 = chinker.parse(tagged)\n",
        "print(output1)\n",
        "output1"
      ],
      "metadata": {
        "colab": {
          "base_uri": "https://localhost:8080/",
          "height": 502
        },
        "id": "dnCnzoI_GUQU",
        "outputId": "28ad9d40-afc5-46b4-894a-7f881134f153"
      },
      "execution_count": null,
      "outputs": [
        {
          "output_type": "stream",
          "name": "stdout",
          "text": [
            "(S\n",
            "  (Chunk hi/NN i/NN)\n",
            "  be/VB\n",
            "  learn/VBN\n",
            "  nlp/JJ\n",
            "  (Chunk play/NN football/NN)\n",
            "  better/RBR\n",
            "  at/IN\n",
            "  it/PRP\n",
            "  ram/VBZ\n",
            "  love/IN\n",
            "  (Chunk sing/NN song/NN)\n",
            "  my/PRP$\n",
            "  (Chunk instgram/NN name/NN)\n",
            "  be/VB\n",
            "  (Chunk phone/NN number/NN)\n",
            "  facebok/JJ\n",
            "  (Chunk profil/NN link/NN))\n"
          ]
        },
        {
          "output_type": "execute_result",
          "data": {
            "text/plain": [
              "Tree('S', [Tree('Chunk', [('hi', 'NN'), ('i', 'NN')]), ('be', 'VB'), ('learn', 'VBN'), ('nlp', 'JJ'), Tree('Chunk', [('play', 'NN'), ('football', 'NN')]), ('better', 'RBR'), ('at', 'IN'), ('it', 'PRP'), ('ram', 'VBZ'), ('love', 'IN'), Tree('Chunk', [('sing', 'NN'), ('song', 'NN')]), ('my', 'PRP$'), Tree('Chunk', [('instgram', 'NN'), ('name', 'NN')]), ('be', 'VB'), Tree('Chunk', [('phone', 'NN'), ('number', 'NN')]), ('facebok', 'JJ'), Tree('Chunk', [('profil', 'NN'), ('link', 'NN')])])"
            ],
            "image/svg+xml": "<svg baseProfile=\"full\" height=\"168px\" preserveAspectRatio=\"xMidYMid meet\" style=\"font-family: times, serif; font-weight:normal; font-style: normal; font-size: 16px;\" version=\"1.1\" viewBox=\"0,0,1152.0,168.0\" width=\"1152px\" xmlns=\"http://www.w3.org/2000/svg\" xmlns:ev=\"http://www.w3.org/2001/xml-events\" xmlns:xlink=\"http://www.w3.org/1999/xlink\"><defs /><svg width=\"100%\" x=\"0\" y=\"0em\"><defs /><text text-anchor=\"middle\" x=\"50%\" y=\"1em\">S</text></svg><svg width=\"5.55556%\" x=\"0%\" y=\"3em\"><defs /><svg width=\"100%\" x=\"0\" y=\"0em\"><defs /><text text-anchor=\"middle\" x=\"50%\" y=\"1em\">Chunk</text></svg><svg width=\"50%\" x=\"0%\" y=\"3em\"><defs /><svg width=\"100%\" x=\"0\" y=\"0em\"><defs /><text text-anchor=\"middle\" x=\"50%\" y=\"1em\">hi</text></svg><svg width=\"100%\" x=\"0%\" y=\"3em\"><defs /><svg width=\"100%\" x=\"0\" y=\"0em\"><defs /><text text-anchor=\"middle\" x=\"50%\" y=\"1em\">NN</text></svg></svg><line stroke=\"black\" x1=\"50%\" x2=\"50%\" y1=\"1.2em\" y2=\"3em\" /></svg><line stroke=\"black\" x1=\"50%\" x2=\"25%\" y1=\"1.2em\" y2=\"3em\" /><svg width=\"50%\" x=\"50%\" y=\"3em\"><defs /><svg width=\"100%\" x=\"0\" y=\"0em\"><defs /><text text-anchor=\"middle\" x=\"50%\" y=\"1em\">i</text></svg><svg width=\"100%\" x=\"0%\" y=\"3em\"><defs /><svg width=\"100%\" x=\"0\" y=\"0em\"><defs /><text text-anchor=\"middle\" x=\"50%\" y=\"1em\">NN</text></svg></svg><line stroke=\"black\" x1=\"50%\" x2=\"50%\" y1=\"1.2em\" y2=\"3em\" /></svg><line stroke=\"black\" x1=\"50%\" x2=\"75%\" y1=\"1.2em\" y2=\"3em\" /></svg><line stroke=\"black\" x1=\"50%\" x2=\"2.77778%\" y1=\"1.2em\" y2=\"3em\" /><svg width=\"2.77778%\" x=\"5.55556%\" y=\"3em\"><defs /><svg width=\"100%\" x=\"0\" y=\"0em\"><defs /><text text-anchor=\"middle\" x=\"50%\" y=\"1em\">be</text></svg><svg width=\"100%\" x=\"0%\" y=\"3em\"><defs /><svg width=\"100%\" x=\"0\" y=\"0em\"><defs /><text text-anchor=\"middle\" x=\"50%\" y=\"1em\">VB</text></svg></svg><line stroke=\"black\" x1=\"50%\" x2=\"50%\" y1=\"1.2em\" y2=\"3em\" /></svg><line stroke=\"black\" x1=\"50%\" x2=\"6.94444%\" y1=\"1.2em\" y2=\"3em\" /><svg width=\"4.86111%\" x=\"8.33333%\" y=\"3em\"><defs /><svg width=\"100%\" x=\"0\" y=\"0em\"><defs /><text text-anchor=\"middle\" x=\"50%\" y=\"1em\">learn</text></svg><svg width=\"100%\" x=\"0%\" y=\"3em\"><defs /><svg width=\"100%\" x=\"0\" y=\"0em\"><defs /><text text-anchor=\"middle\" x=\"50%\" y=\"1em\">VBN</text></svg></svg><line stroke=\"black\" x1=\"50%\" x2=\"50%\" y1=\"1.2em\" y2=\"3em\" /></svg><line stroke=\"black\" x1=\"50%\" x2=\"10.7639%\" y1=\"1.2em\" y2=\"3em\" /><svg width=\"3.47222%\" x=\"13.1944%\" y=\"3em\"><defs /><svg width=\"100%\" x=\"0\" y=\"0em\"><defs /><text text-anchor=\"middle\" x=\"50%\" y=\"1em\">nlp</text></svg><svg width=\"100%\" x=\"0%\" y=\"3em\"><defs /><svg width=\"100%\" x=\"0\" y=\"0em\"><defs /><text text-anchor=\"middle\" x=\"50%\" y=\"1em\">JJ</text></svg></svg><line stroke=\"black\" x1=\"50%\" x2=\"50%\" y1=\"1.2em\" y2=\"3em\" /></svg><line stroke=\"black\" x1=\"50%\" x2=\"14.9306%\" y1=\"1.2em\" y2=\"3em\" /><svg width=\"11.1111%\" x=\"16.6667%\" y=\"3em\"><defs /><svg width=\"100%\" x=\"0\" y=\"0em\"><defs /><text text-anchor=\"middle\" x=\"50%\" y=\"1em\">Chunk</text></svg><svg width=\"37.5%\" x=\"0%\" y=\"3em\"><defs /><svg width=\"100%\" x=\"0\" y=\"0em\"><defs /><text text-anchor=\"middle\" x=\"50%\" y=\"1em\">play</text></svg><svg width=\"100%\" x=\"0%\" y=\"3em\"><defs /><svg width=\"100%\" x=\"0\" y=\"0em\"><defs /><text text-anchor=\"middle\" x=\"50%\" y=\"1em\">NN</text></svg></svg><line stroke=\"black\" x1=\"50%\" x2=\"50%\" y1=\"1.2em\" y2=\"3em\" /></svg><line stroke=\"black\" x1=\"50%\" x2=\"18.75%\" y1=\"1.2em\" y2=\"3em\" /><svg width=\"62.5%\" x=\"37.5%\" y=\"3em\"><defs /><svg width=\"100%\" x=\"0\" y=\"0em\"><defs /><text text-anchor=\"middle\" x=\"50%\" y=\"1em\">football</text></svg><svg width=\"100%\" x=\"0%\" y=\"3em\"><defs /><svg width=\"100%\" x=\"0\" y=\"0em\"><defs /><text text-anchor=\"middle\" x=\"50%\" y=\"1em\">NN</text></svg></svg><line stroke=\"black\" x1=\"50%\" x2=\"50%\" y1=\"1.2em\" y2=\"3em\" /></svg><line stroke=\"black\" x1=\"50%\" x2=\"68.75%\" y1=\"1.2em\" y2=\"3em\" /></svg><line stroke=\"black\" x1=\"50%\" x2=\"22.2222%\" y1=\"1.2em\" y2=\"3em\" /><svg width=\"5.55556%\" x=\"27.7778%\" y=\"3em\"><defs /><svg width=\"100%\" x=\"0\" y=\"0em\"><defs /><text text-anchor=\"middle\" x=\"50%\" y=\"1em\">better</text></svg><svg width=\"100%\" x=\"0%\" y=\"3em\"><defs /><svg width=\"100%\" x=\"0\" y=\"0em\"><defs /><text text-anchor=\"middle\" x=\"50%\" y=\"1em\">RBR</text></svg></svg><line stroke=\"black\" x1=\"50%\" x2=\"50%\" y1=\"1.2em\" y2=\"3em\" /></svg><line stroke=\"black\" x1=\"50%\" x2=\"30.5556%\" y1=\"1.2em\" y2=\"3em\" /><svg width=\"2.77778%\" x=\"33.3333%\" y=\"3em\"><defs /><svg width=\"100%\" x=\"0\" y=\"0em\"><defs /><text text-anchor=\"middle\" x=\"50%\" y=\"1em\">at</text></svg><svg width=\"100%\" x=\"0%\" y=\"3em\"><defs /><svg width=\"100%\" x=\"0\" y=\"0em\"><defs /><text text-anchor=\"middle\" x=\"50%\" y=\"1em\">IN</text></svg></svg><line stroke=\"black\" x1=\"50%\" x2=\"50%\" y1=\"1.2em\" y2=\"3em\" /></svg><line stroke=\"black\" x1=\"50%\" x2=\"34.7222%\" y1=\"1.2em\" y2=\"3em\" /><svg width=\"3.47222%\" x=\"36.1111%\" y=\"3em\"><defs /><svg width=\"100%\" x=\"0\" y=\"0em\"><defs /><text text-anchor=\"middle\" x=\"50%\" y=\"1em\">it</text></svg><svg width=\"100%\" x=\"0%\" y=\"3em\"><defs /><svg width=\"100%\" x=\"0\" y=\"0em\"><defs /><text text-anchor=\"middle\" x=\"50%\" y=\"1em\">PRP</text></svg></svg><line stroke=\"black\" x1=\"50%\" x2=\"50%\" y1=\"1.2em\" y2=\"3em\" /></svg><line stroke=\"black\" x1=\"50%\" x2=\"37.8472%\" y1=\"1.2em\" y2=\"3em\" /><svg width=\"3.47222%\" x=\"39.5833%\" y=\"3em\"><defs /><svg width=\"100%\" x=\"0\" y=\"0em\"><defs /><text text-anchor=\"middle\" x=\"50%\" y=\"1em\">ram</text></svg><svg width=\"100%\" x=\"0%\" y=\"3em\"><defs /><svg width=\"100%\" x=\"0\" y=\"0em\"><defs /><text text-anchor=\"middle\" x=\"50%\" y=\"1em\">VBZ</text></svg></svg><line stroke=\"black\" x1=\"50%\" x2=\"50%\" y1=\"1.2em\" y2=\"3em\" /></svg><line stroke=\"black\" x1=\"50%\" x2=\"41.3194%\" y1=\"1.2em\" y2=\"3em\" /><svg width=\"4.16667%\" x=\"43.0556%\" y=\"3em\"><defs /><svg width=\"100%\" x=\"0\" y=\"0em\"><defs /><text text-anchor=\"middle\" x=\"50%\" y=\"1em\">love</text></svg><svg width=\"100%\" x=\"0%\" y=\"3em\"><defs /><svg width=\"100%\" x=\"0\" y=\"0em\"><defs /><text text-anchor=\"middle\" x=\"50%\" y=\"1em\">IN</text></svg></svg><line stroke=\"black\" x1=\"50%\" x2=\"50%\" y1=\"1.2em\" y2=\"3em\" /></svg><line stroke=\"black\" x1=\"50%\" x2=\"45.1389%\" y1=\"1.2em\" y2=\"3em\" /><svg width=\"8.33333%\" x=\"47.2222%\" y=\"3em\"><defs /><svg width=\"100%\" x=\"0\" y=\"0em\"><defs /><text text-anchor=\"middle\" x=\"50%\" y=\"1em\">Chunk</text></svg><svg width=\"50%\" x=\"0%\" y=\"3em\"><defs /><svg width=\"100%\" x=\"0\" y=\"0em\"><defs /><text text-anchor=\"middle\" x=\"50%\" y=\"1em\">sing</text></svg><svg width=\"100%\" x=\"0%\" y=\"3em\"><defs /><svg width=\"100%\" x=\"0\" y=\"0em\"><defs /><text text-anchor=\"middle\" x=\"50%\" y=\"1em\">NN</text></svg></svg><line stroke=\"black\" x1=\"50%\" x2=\"50%\" y1=\"1.2em\" y2=\"3em\" /></svg><line stroke=\"black\" x1=\"50%\" x2=\"25%\" y1=\"1.2em\" y2=\"3em\" /><svg width=\"50%\" x=\"50%\" y=\"3em\"><defs /><svg width=\"100%\" x=\"0\" y=\"0em\"><defs /><text text-anchor=\"middle\" x=\"50%\" y=\"1em\">song</text></svg><svg width=\"100%\" x=\"0%\" y=\"3em\"><defs /><svg width=\"100%\" x=\"0\" y=\"0em\"><defs /><text text-anchor=\"middle\" x=\"50%\" y=\"1em\">NN</text></svg></svg><line stroke=\"black\" x1=\"50%\" x2=\"50%\" y1=\"1.2em\" y2=\"3em\" /></svg><line stroke=\"black\" x1=\"50%\" x2=\"75%\" y1=\"1.2em\" y2=\"3em\" /></svg><line stroke=\"black\" x1=\"50%\" x2=\"51.3889%\" y1=\"1.2em\" y2=\"3em\" /><svg width=\"4.16667%\" x=\"55.5556%\" y=\"3em\"><defs /><svg width=\"100%\" x=\"0\" y=\"0em\"><defs /><text text-anchor=\"middle\" x=\"50%\" y=\"1em\">my</text></svg><svg width=\"100%\" x=\"0%\" y=\"3em\"><defs /><svg width=\"100%\" x=\"0\" y=\"0em\"><defs /><text text-anchor=\"middle\" x=\"50%\" y=\"1em\">PRP$</text></svg></svg><line stroke=\"black\" x1=\"50%\" x2=\"50%\" y1=\"1.2em\" y2=\"3em\" /></svg><line stroke=\"black\" x1=\"50%\" x2=\"57.6389%\" y1=\"1.2em\" y2=\"3em\" /><svg width=\"11.1111%\" x=\"59.7222%\" y=\"3em\"><defs /><svg width=\"100%\" x=\"0\" y=\"0em\"><defs /><text text-anchor=\"middle\" x=\"50%\" y=\"1em\">Chunk</text></svg><svg width=\"62.5%\" x=\"0%\" y=\"3em\"><defs /><svg width=\"100%\" x=\"0\" y=\"0em\"><defs /><text text-anchor=\"middle\" x=\"50%\" y=\"1em\">instgram</text></svg><svg width=\"100%\" x=\"0%\" y=\"3em\"><defs /><svg width=\"100%\" x=\"0\" y=\"0em\"><defs /><text text-anchor=\"middle\" x=\"50%\" y=\"1em\">NN</text></svg></svg><line stroke=\"black\" x1=\"50%\" x2=\"50%\" y1=\"1.2em\" y2=\"3em\" /></svg><line stroke=\"black\" x1=\"50%\" x2=\"31.25%\" y1=\"1.2em\" y2=\"3em\" /><svg width=\"37.5%\" x=\"62.5%\" y=\"3em\"><defs /><svg width=\"100%\" x=\"0\" y=\"0em\"><defs /><text text-anchor=\"middle\" x=\"50%\" y=\"1em\">name</text></svg><svg width=\"100%\" x=\"0%\" y=\"3em\"><defs /><svg width=\"100%\" x=\"0\" y=\"0em\"><defs /><text text-anchor=\"middle\" x=\"50%\" y=\"1em\">NN</text></svg></svg><line stroke=\"black\" x1=\"50%\" x2=\"50%\" y1=\"1.2em\" y2=\"3em\" /></svg><line stroke=\"black\" x1=\"50%\" x2=\"81.25%\" y1=\"1.2em\" y2=\"3em\" /></svg><line stroke=\"black\" x1=\"50%\" x2=\"65.2778%\" y1=\"1.2em\" y2=\"3em\" /><svg width=\"2.77778%\" x=\"70.8333%\" y=\"3em\"><defs /><svg width=\"100%\" x=\"0\" y=\"0em\"><defs /><text text-anchor=\"middle\" x=\"50%\" y=\"1em\">be</text></svg><svg width=\"100%\" x=\"0%\" y=\"3em\"><defs /><svg width=\"100%\" x=\"0\" y=\"0em\"><defs /><text text-anchor=\"middle\" x=\"50%\" y=\"1em\">VB</text></svg></svg><line stroke=\"black\" x1=\"50%\" x2=\"50%\" y1=\"1.2em\" y2=\"3em\" /></svg><line stroke=\"black\" x1=\"50%\" x2=\"72.2222%\" y1=\"1.2em\" y2=\"3em\" /><svg width=\"10.4167%\" x=\"73.6111%\" y=\"3em\"><defs /><svg width=\"100%\" x=\"0\" y=\"0em\"><defs /><text text-anchor=\"middle\" x=\"50%\" y=\"1em\">Chunk</text></svg><svg width=\"46.6667%\" x=\"0%\" y=\"3em\"><defs /><svg width=\"100%\" x=\"0\" y=\"0em\"><defs /><text text-anchor=\"middle\" x=\"50%\" y=\"1em\">phone</text></svg><svg width=\"100%\" x=\"0%\" y=\"3em\"><defs /><svg width=\"100%\" x=\"0\" y=\"0em\"><defs /><text text-anchor=\"middle\" x=\"50%\" y=\"1em\">NN</text></svg></svg><line stroke=\"black\" x1=\"50%\" x2=\"50%\" y1=\"1.2em\" y2=\"3em\" /></svg><line stroke=\"black\" x1=\"50%\" x2=\"23.3333%\" y1=\"1.2em\" y2=\"3em\" /><svg width=\"53.3333%\" x=\"46.6667%\" y=\"3em\"><defs /><svg width=\"100%\" x=\"0\" y=\"0em\"><defs /><text text-anchor=\"middle\" x=\"50%\" y=\"1em\">number</text></svg><svg width=\"100%\" x=\"0%\" y=\"3em\"><defs /><svg width=\"100%\" x=\"0\" y=\"0em\"><defs /><text text-anchor=\"middle\" x=\"50%\" y=\"1em\">NN</text></svg></svg><line stroke=\"black\" x1=\"50%\" x2=\"50%\" y1=\"1.2em\" y2=\"3em\" /></svg><line stroke=\"black\" x1=\"50%\" x2=\"73.3333%\" y1=\"1.2em\" y2=\"3em\" /></svg><line stroke=\"black\" x1=\"50%\" x2=\"78.8194%\" y1=\"1.2em\" y2=\"3em\" /><svg width=\"6.25%\" x=\"84.0278%\" y=\"3em\"><defs /><svg width=\"100%\" x=\"0\" y=\"0em\"><defs /><text text-anchor=\"middle\" x=\"50%\" y=\"1em\">facebok</text></svg><svg width=\"100%\" x=\"0%\" y=\"3em\"><defs /><svg width=\"100%\" x=\"0\" y=\"0em\"><defs /><text text-anchor=\"middle\" x=\"50%\" y=\"1em\">JJ</text></svg></svg><line stroke=\"black\" x1=\"50%\" x2=\"50%\" y1=\"1.2em\" y2=\"3em\" /></svg><line stroke=\"black\" x1=\"50%\" x2=\"87.1528%\" y1=\"1.2em\" y2=\"3em\" /><svg width=\"9.72222%\" x=\"90.2778%\" y=\"3em\"><defs /><svg width=\"100%\" x=\"0\" y=\"0em\"><defs /><text text-anchor=\"middle\" x=\"50%\" y=\"1em\">Chunk</text></svg><svg width=\"57.1429%\" x=\"0%\" y=\"3em\"><defs /><svg width=\"100%\" x=\"0\" y=\"0em\"><defs /><text text-anchor=\"middle\" x=\"50%\" y=\"1em\">profil</text></svg><svg width=\"100%\" x=\"0%\" y=\"3em\"><defs /><svg width=\"100%\" x=\"0\" y=\"0em\"><defs /><text text-anchor=\"middle\" x=\"50%\" y=\"1em\">NN</text></svg></svg><line stroke=\"black\" x1=\"50%\" x2=\"50%\" y1=\"1.2em\" y2=\"3em\" /></svg><line stroke=\"black\" x1=\"50%\" x2=\"28.5714%\" y1=\"1.2em\" y2=\"3em\" /><svg width=\"42.8571%\" x=\"57.1429%\" y=\"3em\"><defs /><svg width=\"100%\" x=\"0\" y=\"0em\"><defs /><text text-anchor=\"middle\" x=\"50%\" y=\"1em\">link</text></svg><svg width=\"100%\" x=\"0%\" y=\"3em\"><defs /><svg width=\"100%\" x=\"0\" y=\"0em\"><defs /><text text-anchor=\"middle\" x=\"50%\" y=\"1em\">NN</text></svg></svg><line stroke=\"black\" x1=\"50%\" x2=\"50%\" y1=\"1.2em\" y2=\"3em\" /></svg><line stroke=\"black\" x1=\"50%\" x2=\"78.5714%\" y1=\"1.2em\" y2=\"3em\" /></svg><line stroke=\"black\" x1=\"50%\" x2=\"95.1389%\" y1=\"1.2em\" y2=\"3em\" /></svg>"
          },
          "metadata": {},
          "execution_count": 29
        }
      ]
    },
    {
      "cell_type": "markdown",
      "source": [
        "### Feature Engineering: (aka Feature Extraction, Vectorization)\n",
        ">We cannot give our text data directly to our model. ML models don't understand text data. we need to convert it to some numerical format, basically called as vectors in NLP.\n",
        "Feature Engineering is converting of text data to numerical data. \n",
        "\n",
        ">*Techniques:*<br>\n",
        "- One Hot Encoding<br>\n",
        "- Bag of Words<br>\n",
        "- n-grams<br>\n",
        "- Tf-Idf (Term Frequency & Inverse document frequency)<br>\n",
        "- Word2Vec<br>"
      ],
      "metadata": {
        "id": "TYgXg8XFU8Bq"
      }
    },
    {
      "cell_type": "markdown",
      "source": [
        "#### Bag of Words:\n",
        "> - simplest form of text representation <br>\n",
        "> - frequency based <br>\n",
        "> - describes the occurance of words within documents <br>\n",
        "> - especially used in text classification tasks <br>\n",
        "\n",
        "Drawbacks:\n",
        "1. The size of vectors depend on size of vocabulary. Adding sentence with new words increase the size of vector.\n",
        "2. There are lots of zeros in matrix as vocab size increases causing sparsity of matrix.\n",
        "3. It is only based on unique words and ordering of words (semantic meaning) is not taken care of."
      ],
      "metadata": {
        "id": "YB3NKQnF6Tiv"
      }
    },
    {
      "cell_type": "markdown",
      "source": [
        "#### TF-IDF (Term Frequency and Inverse Document Frequency)\n",
        "\n",
        "> statistical measure that evaluates how relevant a word is to a document in collection of documents <br>\n",
        "> TF-IDF = TF * IDF\n",
        "\n",
        "> Term-Frequency:<br>\n",
        "> - measures how frequent a term appears in a document <br>\n",
        "> - words that are present in abundance will have higher TF\n",
        "\n",
        "> Inverse Document Frequency: <br>\n",
        "> - measures how important a word is <br>\n",
        "> - abundant words will have lower value\n",
        "\n",
        "Drawbacks:\n",
        "1. It can't capture the semantic meanings."
      ],
      "metadata": {
        "id": "QnZZpknM7xpf"
      }
    },
    {
      "cell_type": "markdown",
      "source": [
        "####  Word2Vec"
      ],
      "metadata": {
        "id": "aL3sTtMZ9qwm"
      }
    },
    {
      "cell_type": "markdown",
      "source": [
        "\n",
        "Word Embedding:\n",
        "Humans can easily understand assocaiation between words, but machines can't. So, word embedding came into picture. Eg; man-boy, boy-table.<br>\n",
        "It is a representation of words for text analysis in a vector form that encodes meaning of word such that words closer in vector spaces are expected to be similar in meaning.\n",
        "\n",
        "Word2Vec is a deep learning-based word embedding technique that converts given word into a vector as collection of numbers.\n",
        "It captures semantic meaning.\n",
        "\n",
        "It uses two algorithms:\n",
        "1. Continuous Bag of Words (CBOW)\n",
        "2. Skip-gram"
      ],
      "metadata": {
        "id": "iJKbgiXN6SO-"
      }
    },
    {
      "cell_type": "markdown",
      "source": [
        "### Bag of Words (BOW)"
      ],
      "metadata": {
        "id": "CegiymxC5b7g"
      }
    },
    {
      "cell_type": "code",
      "source": [
        "from sklearn.feature_extraction.text import CountVectorizer"
      ],
      "metadata": {
        "id": "mbaDQw_iM3_M"
      },
      "execution_count": null,
      "outputs": []
    },
    {
      "cell_type": "code",
      "source": [
        "corpus = [\n",
        "        'This is the first document.',\n",
        "        'This document is the second document.',\n",
        "        'And this is the third one',\n",
        "        'Is this the first document?',\n",
        "]"
      ],
      "metadata": {
        "id": "GPyDMkgB5Dg4"
      },
      "execution_count": null,
      "outputs": []
    },
    {
      "cell_type": "code",
      "source": [
        "vectorizer = CountVectorizer()\n",
        "X = vectorizer.fit_transform(corpus)\n",
        "print(vectorizer.get_feature_names())"
      ],
      "metadata": {
        "colab": {
          "base_uri": "https://localhost:8080/"
        },
        "id": "xoy0Avp05Ft3",
        "outputId": "07304d06-4ed7-41d9-d7d8-2dd3618b0558"
      },
      "execution_count": null,
      "outputs": [
        {
          "output_type": "stream",
          "name": "stdout",
          "text": [
            "['and', 'document', 'first', 'is', 'one', 'second', 'the', 'third', 'this']\n"
          ]
        },
        {
          "output_type": "stream",
          "name": "stderr",
          "text": [
            "/usr/local/lib/python3.7/dist-packages/sklearn/utils/deprecation.py:87: FutureWarning: Function get_feature_names is deprecated; get_feature_names is deprecated in 1.0 and will be removed in 1.2. Please use get_feature_names_out instead.\n",
            "  warnings.warn(msg, category=FutureWarning)\n"
          ]
        }
      ]
    },
    {
      "cell_type": "code",
      "source": [
        "print(X.toarray()) # converts into matrix"
      ],
      "metadata": {
        "colab": {
          "base_uri": "https://localhost:8080/"
        },
        "id": "ue0icRWk5Hvg",
        "outputId": "284f7eb0-3f42-412c-adca-3a54e99b7964"
      },
      "execution_count": null,
      "outputs": [
        {
          "output_type": "stream",
          "name": "stdout",
          "text": [
            "[[0 1 1 1 0 0 1 0 1]\n",
            " [0 2 0 1 0 1 1 0 1]\n",
            " [1 0 0 1 1 0 1 1 1]\n",
            " [0 1 1 1 0 0 1 0 1]]\n"
          ]
        }
      ]
    },
    {
      "cell_type": "markdown",
      "source": [
        "### BOW (n-grams)"
      ],
      "metadata": {
        "id": "wu8P17pv5gIP"
      }
    },
    {
      "cell_type": "code",
      "source": [
        "vectorizer2 = CountVectorizer(analyzer='word', ngram_range=(3,3))\n",
        "X2 = vectorizer2.fit_transform(corpus)\n",
        "print(vectorizer2.get_feature_names())"
      ],
      "metadata": {
        "colab": {
          "base_uri": "https://localhost:8080/"
        },
        "id": "sEPfdkKg5KRv",
        "outputId": "a3952185-654e-4894-dbad-0db21565dbd9"
      },
      "execution_count": null,
      "outputs": [
        {
          "output_type": "stream",
          "name": "stdout",
          "text": [
            "['and this is', 'document is the', 'is the first', 'is the second', 'is the third', 'is this the', 'the first document', 'the second document', 'the third one', 'this document is', 'this is the', 'this the first']\n"
          ]
        },
        {
          "output_type": "stream",
          "name": "stderr",
          "text": [
            "/usr/local/lib/python3.7/dist-packages/sklearn/utils/deprecation.py:87: FutureWarning: Function get_feature_names is deprecated; get_feature_names is deprecated in 1.0 and will be removed in 1.2. Please use get_feature_names_out instead.\n",
            "  warnings.warn(msg, category=FutureWarning)\n"
          ]
        }
      ]
    },
    {
      "cell_type": "code",
      "source": [
        "print(X2.toarray())"
      ],
      "metadata": {
        "colab": {
          "base_uri": "https://localhost:8080/"
        },
        "id": "U3XRh-1_5MDw",
        "outputId": "c43940cb-4d13-4997-e991-5076b08d82e6"
      },
      "execution_count": null,
      "outputs": [
        {
          "output_type": "stream",
          "name": "stdout",
          "text": [
            "[[0 0 1 0 0 0 1 0 0 0 1 0]\n",
            " [0 1 0 1 0 0 0 1 0 1 0 0]\n",
            " [1 0 0 0 1 0 0 0 1 0 1 0]\n",
            " [0 0 0 0 0 1 1 0 0 0 0 1]]\n"
          ]
        }
      ]
    },
    {
      "cell_type": "markdown",
      "source": [
        "### TF-IDF"
      ],
      "metadata": {
        "id": "mtPV2gln5kyo"
      }
    },
    {
      "cell_type": "code",
      "source": [
        "from sklearn.feature_extraction.text import TfidfVectorizer\n",
        "vectorizer3 = TfidfVectorizer()\n",
        "vectors = vectorizer3.fit_transform(corpus)"
      ],
      "metadata": {
        "id": "nm2NFYet5OC3"
      },
      "execution_count": null,
      "outputs": []
    },
    {
      "cell_type": "code",
      "source": [
        "vectors"
      ],
      "metadata": {
        "colab": {
          "base_uri": "https://localhost:8080/"
        },
        "id": "CP-sTPhU5PrO",
        "outputId": "aef431e7-c8bc-41e9-d8b3-ae8e20f2b986"
      },
      "execution_count": null,
      "outputs": [
        {
          "output_type": "execute_result",
          "data": {
            "text/plain": [
              "<4x9 sparse matrix of type '<class 'numpy.float64'>'\n",
              "\twith 21 stored elements in Compressed Sparse Row format>"
            ]
          },
          "metadata": {},
          "execution_count": 37
        }
      ]
    },
    {
      "cell_type": "code",
      "source": [
        "vectorizer3.get_feature_names()"
      ],
      "metadata": {
        "colab": {
          "base_uri": "https://localhost:8080/"
        },
        "id": "4ZOS0YDe5RUe",
        "outputId": "e5eeeb48-4b2e-494c-9335-380cc5d84a02"
      },
      "execution_count": null,
      "outputs": [
        {
          "output_type": "stream",
          "name": "stderr",
          "text": [
            "/usr/local/lib/python3.7/dist-packages/sklearn/utils/deprecation.py:87: FutureWarning: Function get_feature_names is deprecated; get_feature_names is deprecated in 1.0 and will be removed in 1.2. Please use get_feature_names_out instead.\n",
            "  warnings.warn(msg, category=FutureWarning)\n"
          ]
        },
        {
          "output_type": "execute_result",
          "data": {
            "text/plain": [
              "['and', 'document', 'first', 'is', 'one', 'second', 'the', 'third', 'this']"
            ]
          },
          "metadata": {},
          "execution_count": 38
        }
      ]
    },
    {
      "cell_type": "code",
      "source": [
        ""
      ],
      "metadata": {
        "id": "fnue-rxB5aj_"
      },
      "execution_count": null,
      "outputs": []
    }
  ]
}