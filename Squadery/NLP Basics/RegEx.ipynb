{
  "nbformat": 4,
  "nbformat_minor": 0,
  "metadata": {
    "colab": {
      "name": "RegEx.ipynb",
      "provenance": []
    },
    "kernelspec": {
      "name": "python3",
      "display_name": "Python 3"
    },
    "language_info": {
      "name": "python"
    }
  },
  "cells": [
    {
      "cell_type": "markdown",
      "source": [
        "##Dates"
      ],
      "metadata": {
        "id": "nOXiFSUQaOYr"
      }
    },
    {
      "cell_type": "code",
      "execution_count": 1,
      "metadata": {
        "id": "fztCz_A-srR0"
      },
      "outputs": [],
      "source": [
        "import re"
      ]
    },
    {
      "cell_type": "code",
      "source": [
        "sent = \"My birthday is on 1990-05-20 . I went to Pokhara on 2012/11/31 . This is an invalid date format 2022-13-56. Lets try this also 2021/01/05\"\n",
        "sent1 = \"2022-07-12, 2012-11-23, 2010-13-30, 2010-2-3, 2022/12/30, 05.31.1997, 12.20.1880, 12.20.1999\""
      ],
      "metadata": {
        "id": "-Z12NIFPCDCO"
      },
      "execution_count": 2,
      "outputs": []
    },
    {
      "cell_type": "code",
      "source": [
        "pattern = \"((\\d{4})-(0[1-9]|1[0-2])-(0[1-9]|1[0-9]|2[0-9]|3[01]))\" #YYYY-MM-DD\n",
        "pattern1 = \"(\\d{4}-(0[1-9]|1[0-2])-(0[1-9]|1[0-9]|2[0-9]|3[01]))\" #YYYY-MM-DD (leading zeros required)\n",
        "pattern2 = \"(\\d{4}-(0?[1-9]|1[0-2])-(0?[1-9]|3[01]|[12][0-9]))\" #YYYY-MM-DD, YYYY-M-D\n",
        "pattern3 = \"(\\d{4}[-/](0?[1-9]|1[0-2])[-/]([12][0-9]|3[01]|0?[1-9]))\" #YYYY-MM-DD, YYYY-M-D, YYYY/MM/DD, YYYY/M/D (0?[1-9] is to be kept at last for day)\n",
        "pattern4 = \"((0[1-9]|1[012])[- /.](0[1-9]|[12][0-9]|3[01])[- /.](19|20)\\d{2})\" #MM.DD.YYYY"
      ],
      "metadata": {
        "id": "JCjk5MSENK-d"
      },
      "execution_count": 3,
      "outputs": []
    },
    {
      "cell_type": "code",
      "source": [
        "result = re.findall(pattern3, sent)\n",
        "result # how to manage ( ) like in (0[1-9]|1[0-2]) that makes redundant matches"
      ],
      "metadata": {
        "colab": {
          "base_uri": "https://localhost:8080/"
        },
        "id": "WMlhcb28Ccrc",
        "outputId": "76bb325b-9e61-472e-aadc-473bb8a23775"
      },
      "execution_count": 10,
      "outputs": [
        {
          "output_type": "execute_result",
          "data": {
            "text/plain": [
              "[('1990-05-20', '05', '20'),\n",
              " ('2012/11/31', '11', '31'),\n",
              " ('2021/01/05', '01', '05')]"
            ]
          },
          "metadata": {},
          "execution_count": 10
        }
      ]
    },
    {
      "cell_type": "code",
      "source": [
        "for i in range(len(result)):\n",
        "  print(result[i][0])"
      ],
      "metadata": {
        "colab": {
          "base_uri": "https://localhost:8080/"
        },
        "id": "QgUmBmPudzTA",
        "outputId": "27b68a94-faf1-47a4-d392-443dd6645da2"
      },
      "execution_count": 11,
      "outputs": [
        {
          "output_type": "stream",
          "name": "stdout",
          "text": [
            "1990-05-20\n",
            "2012/11/31\n",
            "2021/01/05\n"
          ]
        }
      ]
    },
    {
      "cell_type": "code",
      "source": [
        "result1 = re.sub(pattern3, '', sent)\n",
        "result1"
      ],
      "metadata": {
        "colab": {
          "base_uri": "https://localhost:8080/",
          "height": 35
        },
        "id": "RMkaEDX6Clm9",
        "outputId": "5f4c2d29-fe77-4aa8-9305-8e1b4592f363"
      },
      "execution_count": 12,
      "outputs": [
        {
          "output_type": "execute_result",
          "data": {
            "text/plain": [
              "'My birthday is on  . I went to Pokhara on  . This is an invalid date format 2022-13-56. Lets try this also '"
            ],
            "application/vnd.google.colaboratory.intrinsic+json": {
              "type": "string"
            }
          },
          "metadata": {},
          "execution_count": 12
        }
      ]
    },
    {
      "cell_type": "code",
      "source": [
        ""
      ],
      "metadata": {
        "id": "ySgCrf0ZeREn"
      },
      "execution_count": null,
      "outputs": []
    },
    {
      "cell_type": "markdown",
      "source": [
        "## Emails"
      ],
      "metadata": {
        "id": "ClaxzIW8Ul3V"
      }
    },
    {
      "cell_type": "code",
      "source": [
        "text = \"Hi, my email address is kamalgodar9244@gmail.com. Other emails are: @gmail.com, kamal_godar@hotmail.com, 98kamal@yahoo.com\""
      ],
      "metadata": {
        "id": "P8l-TcoEUtbO"
      },
      "execution_count": null,
      "outputs": []
    },
    {
      "cell_type": "code",
      "source": [
        "pattern5 = '[a-z0-9_.]+@[a-z]{4,7}.[a-z]{2,4}'"
      ],
      "metadata": {
        "id": "zAAsID_HU2GW"
      },
      "execution_count": null,
      "outputs": []
    },
    {
      "cell_type": "code",
      "source": [
        "result = re.findall(pattern5, text)\n",
        "result"
      ],
      "metadata": {
        "colab": {
          "base_uri": "https://localhost:8080/"
        },
        "id": "8tiuhXRdVdOk",
        "outputId": "9b6e4145-f80e-412c-c9cd-db96d3f45542"
      },
      "execution_count": null,
      "outputs": [
        {
          "output_type": "execute_result",
          "data": {
            "text/plain": [
              "['kamalgodar9244@gmail.com', 'kamal_godar@hotmail.com', '98kamal@yahoo.com']"
            ]
          },
          "metadata": {},
          "execution_count": 214
        }
      ]
    },
    {
      "cell_type": "code",
      "source": [
        ""
      ],
      "metadata": {
        "id": "r6a4kXSLWwBb"
      },
      "execution_count": null,
      "outputs": []
    },
    {
      "cell_type": "markdown",
      "source": [
        "## Hyperlinks"
      ],
      "metadata": {
        "id": "LAgyz9KLW55R"
      }
    },
    {
      "cell_type": "code",
      "source": [
        "text1 = \"www.w3schools.com is a good website. other includes: https://www.guru99.com http://www.something.com\""
      ],
      "metadata": {
        "id": "ZSAaC-mCW7IL"
      },
      "execution_count": null,
      "outputs": []
    },
    {
      "cell_type": "code",
      "source": [
        "pattern6 = \"(https?://[www.\\S]+|www.\\S+)\""
      ],
      "metadata": {
        "id": "_uD6gJoHXXLr"
      },
      "execution_count": null,
      "outputs": []
    },
    {
      "cell_type": "code",
      "source": [
        "result = re.findall(pattern6, text1)\n",
        "result"
      ],
      "metadata": {
        "colab": {
          "base_uri": "https://localhost:8080/"
        },
        "id": "EpSIBxIGXxDD",
        "outputId": "3d0dec28-c13e-4c31-8bf0-099ee04b4450"
      },
      "execution_count": null,
      "outputs": [
        {
          "output_type": "execute_result",
          "data": {
            "text/plain": [
              "['www.w3schools.com', 'https://www.guru99.com', 'http://www.something.com']"
            ]
          },
          "metadata": {},
          "execution_count": 278
        }
      ]
    },
    {
      "cell_type": "code",
      "source": [
        ""
      ],
      "metadata": {
        "id": "IsO7qQtLX0QS"
      },
      "execution_count": null,
      "outputs": []
    }
  ]
}