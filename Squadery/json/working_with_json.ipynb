{
 "cells": [
  {
   "cell_type": "code",
   "execution_count": 8,
   "id": "6f2e1857",
   "metadata": {},
   "outputs": [],
   "source": [
    "import json"
   ]
  },
  {
   "cell_type": "code",
   "execution_count": 60,
   "id": "3050f06a",
   "metadata": {},
   "outputs": [],
   "source": [
    "example = '''\n",
    "{\n",
    "    \"people\": [\n",
    "    {\n",
    "        \"name\": \"Kamal\",\n",
    "        \"phone\": 987638322,\n",
    "        \"email\": \"kamalgodar@gmail.com\",\n",
    "        \"has_license\": true\n",
    "    },\n",
    "    {\n",
    "        \"name\": \"Karisma\",\n",
    "        \"phone\": 9756756325,\n",
    "        \"email\": \"kamalgoda@gmail.com\",\n",
    "        \"has_license\": false\n",
    "    },\n",
    "    {\n",
    "        \"name\": \"Himal\",\n",
    "        \"phone\": 98763865756,\n",
    "        \"email\": \"kamalg@gmail.com\",\n",
    "        \"has_license\": true\n",
    "    }\n",
    "    ]\n",
    "}\n",
    "'''"
   ]
  },
  {
   "cell_type": "code",
   "execution_count": null,
   "id": "d61db112",
   "metadata": {},
   "outputs": [],
   "source": []
  },
  {
   "cell_type": "code",
   "execution_count": null,
   "id": "6d0ea77d",
   "metadata": {},
   "outputs": [],
   "source": []
  },
  {
   "cell_type": "code",
   "execution_count": null,
   "id": "b24724a1",
   "metadata": {},
   "outputs": [],
   "source": []
  },
  {
   "cell_type": "markdown",
   "id": "bf095820",
   "metadata": {},
   "source": [
    "JSON string to Python Object"
   ]
  },
  {
   "cell_type": "code",
   "execution_count": 69,
   "id": "f30bc43c",
   "metadata": {},
   "outputs": [
    {
     "data": {
      "text/plain": [
       "{'people': [{'name': 'Kamal',\n",
       "   'phone': 987638322,\n",
       "   'email': 'kamalgodar@gmail.com',\n",
       "   'has_license': True},\n",
       "  {'name': 'Karisma',\n",
       "   'phone': 9756756325,\n",
       "   'email': 'kamalgoda@gmail.com',\n",
       "   'has_license': False},\n",
       "  {'name': 'Himal',\n",
       "   'phone': 98763865756,\n",
       "   'email': 'kamalg@gmail.com',\n",
       "   'has_license': True}]}"
      ]
     },
     "execution_count": 69,
     "metadata": {},
     "output_type": "execute_result"
    }
   ],
   "source": [
    "data = json.loads(example) # data is a Python object\n",
    "data"
   ]
  },
  {
   "cell_type": "code",
   "execution_count": 62,
   "id": "db19ed3b",
   "metadata": {},
   "outputs": [
    {
     "data": {
      "text/plain": [
       "dict"
      ]
     },
     "execution_count": 62,
     "metadata": {},
     "output_type": "execute_result"
    }
   ],
   "source": [
    "type(data)"
   ]
  },
  {
   "cell_type": "code",
   "execution_count": 65,
   "id": "5a1083c4",
   "metadata": {},
   "outputs": [
    {
     "data": {
      "text/plain": [
       "'Kamal'"
      ]
     },
     "execution_count": 65,
     "metadata": {},
     "output_type": "execute_result"
    }
   ],
   "source": [
    "data['people'][0]['name']"
   ]
  },
  {
   "cell_type": "code",
   "execution_count": 68,
   "id": "3b33506e",
   "metadata": {},
   "outputs": [
    {
     "name": "stdout",
     "output_type": "stream",
     "text": [
      "Kamal\n",
      "Karisma\n",
      "Himal\n"
     ]
    }
   ],
   "source": [
    "for person in data['people']:\n",
    "    print(person['name'])"
   ]
  },
  {
   "cell_type": "code",
   "execution_count": null,
   "id": "be3f2c09",
   "metadata": {},
   "outputs": [],
   "source": []
  },
  {
   "cell_type": "code",
   "execution_count": null,
   "id": "43e76643",
   "metadata": {},
   "outputs": [],
   "source": []
  },
  {
   "cell_type": "code",
   "execution_count": null,
   "id": "c4dadd91",
   "metadata": {},
   "outputs": [],
   "source": []
  },
  {
   "cell_type": "markdown",
   "id": "099f1cba",
   "metadata": {},
   "source": [
    "Python Object into JSON string"
   ]
  },
  {
   "cell_type": "code",
   "execution_count": 70,
   "id": "8a4e53cb",
   "metadata": {},
   "outputs": [],
   "source": [
    "for person in data['people']:\n",
    "    del person['phone']"
   ]
  },
  {
   "cell_type": "code",
   "execution_count": 78,
   "id": "60b6d5e3",
   "metadata": {},
   "outputs": [
    {
     "name": "stdout",
     "output_type": "stream",
     "text": [
      "{\n",
      "  \"people\": [\n",
      "    {\n",
      "      \"email\": \"kamalgodar@gmail.com\",\n",
      "      \"has_license\": true,\n",
      "      \"name\": \"Kamal\"\n",
      "    },\n",
      "    {\n",
      "      \"email\": \"kamalgoda@gmail.com\",\n",
      "      \"has_license\": false,\n",
      "      \"name\": \"Karisma\"\n",
      "    },\n",
      "    {\n",
      "      \"email\": \"kamalg@gmail.com\",\n",
      "      \"has_license\": true,\n",
      "      \"name\": \"Himal\"\n",
      "    }\n",
      "  ]\n",
      "}\n"
     ]
    }
   ],
   "source": [
    "new_string = json.dumps(data, indent=2, sort_keys=True) # 2 indentation in each level\n",
    "print(new_string)"
   ]
  },
  {
   "cell_type": "code",
   "execution_count": null,
   "id": "24989a59",
   "metadata": {},
   "outputs": [],
   "source": []
  },
  {
   "cell_type": "code",
   "execution_count": null,
   "id": "e9f44134",
   "metadata": {},
   "outputs": [],
   "source": []
  },
  {
   "cell_type": "code",
   "execution_count": null,
   "id": "466898b9",
   "metadata": {},
   "outputs": [],
   "source": []
  },
  {
   "cell_type": "markdown",
   "id": "37803719",
   "metadata": {},
   "source": [
    "Loading JSON file into Python Object"
   ]
  },
  {
   "cell_type": "code",
   "execution_count": 99,
   "id": "ce224931",
   "metadata": {},
   "outputs": [],
   "source": [
    "with open('json files/states.json') as f:\n",
    "    data = json.load(f)"
   ]
  },
  {
   "cell_type": "code",
   "execution_count": 100,
   "id": "2ca22f98",
   "metadata": {},
   "outputs": [
    {
     "name": "stdout",
     "output_type": "stream",
     "text": [
      "Alabama AL\n",
      "Alaska AK\n",
      "Arizona AZ\n",
      "Arkansas AR\n",
      "California CA\n",
      "Colorado CO\n",
      "Connecticut CT\n",
      "Delaware DE\n",
      "Florida FL\n",
      "Georgia GA\n",
      "Hawaii HI\n",
      "Idaho ID\n",
      "Illinois IL\n",
      "Indiana IN\n",
      "Iowa IA\n",
      "Kansas KS\n",
      "Kentucky KY\n",
      "Louisiana LA\n",
      "Maine ME\n",
      "Maryland MD\n",
      "Massachusetts MA\n",
      "Michigan MI\n",
      "Minnesota MN\n",
      "Mississippi MS\n",
      "Missouri MO\n",
      "Montana MT\n",
      "Nebraska NE\n",
      "Nevada NV\n",
      "New Hampshire NH\n",
      "New Jersey NJ\n",
      "New Mexico NM\n",
      "New York NY\n",
      "North Carolina NC\n",
      "North Dakota ND\n",
      "Ohio OH\n",
      "Oklahoma OK\n",
      "Oregon OR\n",
      "Pennsylvania PA\n",
      "Rhode Island RI\n",
      "South Carolina SC\n",
      "South Dakota SD\n",
      "Tennessee TN\n",
      "Texas TX\n",
      "Utah UT\n",
      "Vermont VT\n",
      "Virginia VA\n",
      "Washington WA\n",
      "West Virginia WV\n",
      "Wisconsin WI\n",
      "Wyoming WY\n"
     ]
    }
   ],
   "source": [
    "for state in data['states']:\n",
    "    print(state['name'], state['abbreviation'])"
   ]
  },
  {
   "cell_type": "markdown",
   "id": "940bd51b",
   "metadata": {},
   "source": [
    "Writing Python Objects to JSON file"
   ]
  },
  {
   "cell_type": "code",
   "execution_count": 101,
   "id": "cb30de35",
   "metadata": {},
   "outputs": [],
   "source": [
    "for state in data['states']:\n",
    "    del state['area_codes']"
   ]
  },
  {
   "cell_type": "code",
   "execution_count": 102,
   "id": "42ee33b0",
   "metadata": {},
   "outputs": [],
   "source": [
    "with open ('json files/new_states.json', 'w') as f:\n",
    "    json.dump(data, f, indent=2)"
   ]
  },
  {
   "cell_type": "code",
   "execution_count": null,
   "id": "64980edc",
   "metadata": {},
   "outputs": [],
   "source": []
  },
  {
   "cell_type": "code",
   "execution_count": null,
   "id": "2c20bfae",
   "metadata": {},
   "outputs": [],
   "source": []
  },
  {
   "cell_type": "code",
   "execution_count": null,
   "id": "9fb98ce0",
   "metadata": {},
   "outputs": [],
   "source": []
  },
  {
   "cell_type": "markdown",
   "id": "00a12ec8",
   "metadata": {},
   "source": [
    "Adding Updating and Deleting JSON data"
   ]
  },
  {
   "cell_type": "code",
   "execution_count": 165,
   "id": "7a0cd1be",
   "metadata": {},
   "outputs": [
    {
     "data": {
      "text/plain": [
       "{'id': '5', 'name': 'kamal'}"
      ]
     },
     "execution_count": 165,
     "metadata": {},
     "output_type": "execute_result"
    }
   ],
   "source": [
    "jsonData = '{\"id\": \"5\", \"name\": \"kamal\"}'\n",
    "data = json.loads(jsonData)\n",
    "data"
   ]
  },
  {
   "cell_type": "code",
   "execution_count": 167,
   "id": "1dce2ca9",
   "metadata": {},
   "outputs": [
    {
     "data": {
      "text/plain": [
       "{'id': '5', 'name': 'kamal', 'dob': '2002-09-23'}"
      ]
     },
     "execution_count": 167,
     "metadata": {},
     "output_type": "execute_result"
    }
   ],
   "source": [
    "newData = {'dob':'2002-09-23'} # Adding data\n",
    "data.update(newData)\n",
    "data"
   ]
  },
  {
   "cell_type": "code",
   "execution_count": 168,
   "id": "da2a63fe",
   "metadata": {},
   "outputs": [
    {
     "data": {
      "text/plain": [
       "{'id': '5', 'dob': '2002-09-23'}"
      ]
     },
     "execution_count": 168,
     "metadata": {},
     "output_type": "execute_result"
    }
   ],
   "source": [
    "del data['name'] # Deleting data\n",
    "data"
   ]
  },
  {
   "cell_type": "code",
   "execution_count": 169,
   "id": "44469933",
   "metadata": {},
   "outputs": [
    {
     "data": {
      "text/plain": [
       "{'id': '5', 'dob': '2022-07-13'}"
      ]
     },
     "execution_count": 169,
     "metadata": {},
     "output_type": "execute_result"
    }
   ],
   "source": [
    "data['dob'] = '2022-07-13' # Updating data\n",
    "data"
   ]
  },
  {
   "cell_type": "code",
   "execution_count": 171,
   "id": "178020dd",
   "metadata": {},
   "outputs": [
    {
     "data": {
      "text/plain": [
       "{'id': '21', 'dob': '2022-07-13'}"
      ]
     },
     "execution_count": 171,
     "metadata": {},
     "output_type": "execute_result"
    }
   ],
   "source": [
    "newData = {'id':'21'} # Updating data\n",
    "data.update(newData)\n",
    "data"
   ]
  },
  {
   "cell_type": "code",
   "execution_count": null,
   "id": "50f6f6c5",
   "metadata": {},
   "outputs": [],
   "source": []
  },
  {
   "cell_type": "code",
   "execution_count": null,
   "id": "ec0bc0ce",
   "metadata": {},
   "outputs": [],
   "source": []
  },
  {
   "cell_type": "code",
   "execution_count": null,
   "id": "40d6bc28",
   "metadata": {},
   "outputs": [],
   "source": []
  },
  {
   "cell_type": "markdown",
   "id": "966f0395",
   "metadata": {},
   "source": [
    "Working with JSON data from Public API"
   ]
  },
  {
   "cell_type": "code",
   "execution_count": 108,
   "id": "a2859a90",
   "metadata": {},
   "outputs": [
    {
     "name": "stdout",
     "output_type": "stream",
     "text": [
      "{'time': {'updated': 'Jul 14, 2022 07:57:00 UTC', 'updatedISO': '2022-07-14T07:57:00+00:00', 'updateduk': 'Jul 14, 2022 at 08:57 BST'}, 'disclaimer': 'This data was produced from the CoinDesk Bitcoin Price Index (USD). Non-USD currency data converted using hourly conversion rate from openexchangerates.org', 'chartName': 'Bitcoin', 'bpi': {'USD': {'code': 'USD', 'symbol': '&#36;', 'rate': '19,957.3893', 'description': 'United States Dollar', 'rate_float': 19957.3893}, 'GBP': {'code': 'GBP', 'symbol': '&pound;', 'rate': '16,676.2349', 'description': 'British Pound Sterling', 'rate_float': 16676.2349}, 'EUR': {'code': 'EUR', 'symbol': '&euro;', 'rate': '19,441.4110', 'description': 'Euro', 'rate_float': 19441.411}}}\n"
     ]
    }
   ],
   "source": [
    "import json\n",
    "from urllib.request import urlopen\n",
    "\n",
    "with urlopen(\"https://api.coindesk.com/v1/bpi/currentprice.json\") as response:\n",
    "    source = response.read()\n",
    "\n",
    "data = json.loads(source)\n",
    "print(data)"
   ]
  },
  {
   "cell_type": "code",
   "execution_count": 109,
   "id": "8f7629a1",
   "metadata": {},
   "outputs": [
    {
     "name": "stdout",
     "output_type": "stream",
     "text": [
      "{\n",
      "  \"time\": {\n",
      "    \"updated\": \"Jul 14, 2022 07:57:00 UTC\",\n",
      "    \"updatedISO\": \"2022-07-14T07:57:00+00:00\",\n",
      "    \"updateduk\": \"Jul 14, 2022 at 08:57 BST\"\n",
      "  },\n",
      "  \"disclaimer\": \"This data was produced from the CoinDesk Bitcoin Price Index (USD). Non-USD currency data converted using hourly conversion rate from openexchangerates.org\",\n",
      "  \"chartName\": \"Bitcoin\",\n",
      "  \"bpi\": {\n",
      "    \"USD\": {\n",
      "      \"code\": \"USD\",\n",
      "      \"symbol\": \"&#36;\",\n",
      "      \"rate\": \"19,957.3893\",\n",
      "      \"description\": \"United States Dollar\",\n",
      "      \"rate_float\": 19957.3893\n",
      "    },\n",
      "    \"GBP\": {\n",
      "      \"code\": \"GBP\",\n",
      "      \"symbol\": \"&pound;\",\n",
      "      \"rate\": \"16,676.2349\",\n",
      "      \"description\": \"British Pound Sterling\",\n",
      "      \"rate_float\": 16676.2349\n",
      "    },\n",
      "    \"EUR\": {\n",
      "      \"code\": \"EUR\",\n",
      "      \"symbol\": \"&euro;\",\n",
      "      \"rate\": \"19,441.4110\",\n",
      "      \"description\": \"Euro\",\n",
      "      \"rate_float\": 19441.411\n",
      "    }\n",
      "  }\n",
      "}\n"
     ]
    }
   ],
   "source": [
    "print(json.dumps(data, indent=2))"
   ]
  },
  {
   "cell_type": "code",
   "execution_count": 118,
   "id": "905129fc",
   "metadata": {},
   "outputs": [
    {
     "data": {
      "text/plain": [
       "{'USD': {'code': 'USD',\n",
       "  'symbol': '&#36;',\n",
       "  'rate': '19,957.3893',\n",
       "  'description': 'United States Dollar',\n",
       "  'rate_float': 19957.3893},\n",
       " 'GBP': {'code': 'GBP',\n",
       "  'symbol': '&pound;',\n",
       "  'rate': '16,676.2349',\n",
       "  'description': 'British Pound Sterling',\n",
       "  'rate_float': 16676.2349},\n",
       " 'EUR': {'code': 'EUR',\n",
       "  'symbol': '&euro;',\n",
       "  'rate': '19,441.4110',\n",
       "  'description': 'Euro',\n",
       "  'rate_float': 19441.411}}"
      ]
     },
     "execution_count": 118,
     "metadata": {},
     "output_type": "execute_result"
    }
   ],
   "source": [
    "data['bpi']"
   ]
  },
  {
   "cell_type": "code",
   "execution_count": 114,
   "id": "4c8a1e2b",
   "metadata": {},
   "outputs": [
    {
     "data": {
      "text/plain": [
       "'USD'"
      ]
     },
     "execution_count": 114,
     "metadata": {},
     "output_type": "execute_result"
    }
   ],
   "source": [
    "data['bpi']['USD']['code']"
   ]
  },
  {
   "cell_type": "code",
   "execution_count": 137,
   "id": "77129b8b",
   "metadata": {},
   "outputs": [
    {
     "data": {
      "text/plain": [
       "'Jul 14, 2022 07:57:00 UTC'"
      ]
     },
     "execution_count": 137,
     "metadata": {},
     "output_type": "execute_result"
    }
   ],
   "source": [
    "data['time']['updated']"
   ]
  },
  {
   "cell_type": "code",
   "execution_count": null,
   "id": "fda3bcbd",
   "metadata": {},
   "outputs": [],
   "source": []
  },
  {
   "cell_type": "code",
   "execution_count": null,
   "id": "390ecb4c",
   "metadata": {},
   "outputs": [],
   "source": []
  },
  {
   "cell_type": "code",
   "execution_count": null,
   "id": "301993d7",
   "metadata": {},
   "outputs": [],
   "source": []
  }
 ],
 "metadata": {
  "kernelspec": {
   "display_name": "Python 3 (ipykernel)",
   "language": "python",
   "name": "python3"
  },
  "language_info": {
   "codemirror_mode": {
    "name": "ipython",
    "version": 3
   },
   "file_extension": ".py",
   "mimetype": "text/x-python",
   "name": "python",
   "nbconvert_exporter": "python",
   "pygments_lexer": "ipython3",
   "version": "3.8.13"
  }
 },
 "nbformat": 4,
 "nbformat_minor": 5
}
