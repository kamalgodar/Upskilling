{
 "cells": [
  {
   "cell_type": "code",
   "execution_count": 79,
   "id": "49d5f72d",
   "metadata": {},
   "outputs": [],
   "source": [
    "# ! pip install pymupdf"
   ]
  },
  {
   "cell_type": "code",
   "execution_count": 80,
   "id": "a799dc58",
   "metadata": {},
   "outputs": [],
   "source": [
    "import fitz\n",
    "doc = fitz.open('files/researchpaper.pdf') # Document object is created"
   ]
  },
  {
   "cell_type": "code",
   "execution_count": 81,
   "id": "864e1221",
   "metadata": {},
   "outputs": [
    {
     "data": {
      "text/plain": [
       "21"
      ]
     },
     "execution_count": 81,
     "metadata": {},
     "output_type": "execute_result"
    }
   ],
   "source": [
    "doc.page_count"
   ]
  },
  {
   "cell_type": "code",
   "execution_count": 82,
   "id": "87dbb736",
   "metadata": {},
   "outputs": [
    {
     "data": {
      "text/plain": [
       "'Recommender Systems\\nPrem Melville and Vikas Sindhwani\\nIBM T.J. Watson Research Center, Yorktown Heights, NY 10598\\n{pmelvil,vsindhw}@us.ibm.com\\n1\\nDeﬁnition\\nThe goal of a Recommender System is to generate meaningful recommendations\\nto a collection of users for items or products that might interest them. Sugges-\\ntions for books on Amazon, or movies on Netﬂix, are real world examples of the\\noperation of industry-strength recommender systems. The design of such recom-\\nmendation engines depends on the domain and the particular characteristics of the\\ndata available. For example, movie watchers on Netﬂix frequently provide rat-\\nings on a scale of 1 (disliked) to 5 (liked). Such a data source records the quality\\nof interactions between users and items. Additionally, the system may have ac-\\ncess to user-speciﬁc and item-speciﬁc proﬁle attributes such as demographics and\\nproduct descriptions respectively. Recommender systems differ in the way they\\nanalyze these data sources to develop notions of afﬁnity between users and items\\nwhich can be used to identify well-matched pairs. Collaborative Filtering sys-\\ntems analyze historical interactions alone, while Content-based Filtering systems\\nare based on proﬁle attributes; and Hybrid techniques attempt to combine both of\\nthese designs. The architecture of recommender systems and their evaluation on\\nreal-world problems is an active area of research.\\n2\\nMotivation and Background\\nObtaining recommendations from trusted sources is a critical component of the\\nnatural process of human decision making. With burgeoning consumerism buoyed\\nby the emergence of the web, buyers are being presented with an increasing range\\nof choices while sellers are being faced with the challenge of personalizing their\\n1\\nadvertising efforts. In parallel, it has become common for enterprises to collect\\nlarge volumes of transactional data that allows for deeper analysis of how a cus-\\ntomer base interacts with the space of product offerings. Recommender Systems\\nhave evolved to fulﬁll the natural dual need of buyers and sellers by automating\\nthe generation of recommendations based on data analysis.\\nThe term “collaborative ﬁltering” was introduced in the context of the ﬁrst\\ncommercial recommender system, called Tapestry[9], which was designed to rec-\\nommend documents drawn from newsgroups to a collection of users. The mo-\\ntivation was to leverage social collaboration in order to prevent users from get-\\nting inundated by a large volume of streaming documents. Collaborative ﬁltering,\\nwhich analyzes usage data across users to ﬁnd well matched user-item pairs, has\\nsince been juxtaposed against the older methodology of content ﬁltering which\\nhad its original roots in information retrieval. In content ﬁltering, recommenda-\\ntions are not “collaborative” in the sense that suggestions made to a user do not\\nexplicitly utilize information across the entire user-base. Some early successes of\\ncollaborative ﬁltering on related domains included the GroupLens system [29].\\nAs noted in [4], initial formulations for recommender systems were based on\\nstraightforward correlation statistics and predictive modeling, not engaging the\\nwider range of practices in statistics and machine learning literature. The col-\\nlaborative ﬁltering problem was mapped to classiﬁcation, which allowed dimen-\\nsionality reduction techniques to be brought into play to improve the quality of the\\nsolutions. Concurrently, several efforts attempted to combine content-based meth-\\nods with collaborative ﬁltering, and to incorporate additional domain knowledge\\nin the architecture of recommender systems.\\nFurther research was spurred by the public availability of datasets on the web,\\nand the interest generated due to direct relevance to e-commerce. Netﬂix, an on-\\nline streaming video and DVD rental service, released a large-scale dataset con-\\ntaining 100 million ratings given by about half-a-million users to thousands of\\nmovie titles, and announced an open competition for the best collaborative ﬁl-\\ntering algorithm in this domain. Matrix Factorization [38] techniques rooted in\\nnumerical linear algebra and statistical matrix analysis emerged as a state of the\\nart technique.\\nCurrently, Recommender Systems remain an active area of research, with a\\ndedicated ACM conference, intersecting several sub-disciplines of statistics, ma-\\nchine learning, data mining and information retrievals. Applications have been\\npursued in diverse domains ranging from recommending webpages to music, books,\\nmovies and other consumer products.\\n2\\nItems\\n1\\n2\\n...\\ni\\n...\\nm\\nUsers\\n1\\n5\\n3\\n1\\n2\\n2\\n2\\n4\\n:\\n5\\nu\\n3\\n4\\n2\\n1\\n:\\n4\\nn\\n3\\n2\\na\\n3\\n5\\n?\\n1\\nFigure 1: User ratings matrix, where each cell ru,i corresponds to the rating of\\nuser u for item i. The task is to predict the missing rating ra,i for the active user a.\\n3\\nStructure of Learning System\\nThe most general setting in which recommender systems are studied is presented\\nin Figure 1. Known user preferences are represented as a matrix of n users and\\nm items, where each cell ru,i corresponds to the rating given to item i by the user\\nu. This user ratings matrix is typically sparse, as most users do not rate most\\nitems. The recommendation task is to predict what rating a user would give to a\\npreviously unrated item. Typically, ratings are predicted for all items that have not\\nbeen observed by a user, and the highest rated items are presented as recommen-\\ndations. The user under current consideration for recommendations is referred to\\nas the active user.\\nThe myriad approaches to Recommender Systems can be broadly categorized as\\n• Collaborative Filtering (CF): In CF systems a user is recommended items\\nbased on the past ratings of all users collectively.\\n• Content-based recommending: These approaches recommend items that are\\nsimilar in content to items the user has liked in the past, or matched to\\nattributes of the user.\\n• Hybrid approaches: These methods combine both collaborative and content-\\nbased approaches.\\n3\\n'"
      ]
     },
     "execution_count": 82,
     "metadata": {},
     "output_type": "execute_result"
    }
   ],
   "source": [
    "\n",
    "page = doc.load_page(0)  # loads page number 'pno' of the document (0-based)\n",
    "page2 = doc[1]  # the short form\n",
    "page3 = doc[2]\n",
    "\n",
    "text1 = page.get_text()\n",
    "text2 = page2.get_text()\n",
    "text3 = page3.get_text()\n",
    "text = text1 + text2 + text3\n",
    "doc.close()\n",
    "text"
   ]
  },
  {
   "cell_type": "code",
   "execution_count": 83,
   "id": "428f1b4d",
   "metadata": {},
   "outputs": [
    {
     "data": {
      "text/plain": [
       "['Recommender Systems',\n",
       " 'Prem Melville and Vikas Sindhwani',\n",
       " 'IBM T.J. Watson Research Center, Yorktown Heights, NY 10598',\n",
       " '{pmelvil,vsindhw}@us.ibm.com',\n",
       " '1',\n",
       " 'Deﬁnition',\n",
       " 'The goal of a Recommender System is to generate meaningful recommendations',\n",
       " 'to a collection of users for items or products that might interest them. Sugges-',\n",
       " 'tions for books on Amazon, or movies on Netﬂix, are real world examples of the',\n",
       " 'operation of industry-strength recommender systems. The design of such recom-',\n",
       " 'mendation engines depends on the domain and the particular characteristics of the',\n",
       " 'data available. For example, movie watchers on Netﬂix frequently provide rat-',\n",
       " 'ings on a scale of 1 (disliked) to 5 (liked). Such a data source records the quality',\n",
       " 'of interactions between users and items. Additionally, the system may have ac-',\n",
       " 'cess to user-speciﬁc and item-speciﬁc proﬁle attributes such as demographics and',\n",
       " 'product descriptions respectively. Recommender systems differ in the way they',\n",
       " 'analyze these data sources to develop notions of afﬁnity between users and items',\n",
       " 'which can be used to identify well-matched pairs. Collaborative Filtering sys-',\n",
       " 'tems analyze historical interactions alone, while Content-based Filtering systems',\n",
       " 'are based on proﬁle attributes; and Hybrid techniques attempt to combine both of',\n",
       " 'these designs. The architecture of recommender systems and their evaluation on',\n",
       " 'real-world problems is an active area of research.',\n",
       " '2',\n",
       " 'Motivation and Background',\n",
       " 'Obtaining recommendations from trusted sources is a critical component of the',\n",
       " 'natural process of human decision making. With burgeoning consumerism buoyed',\n",
       " 'by the emergence of the web, buyers are being presented with an increasing range',\n",
       " 'of choices while sellers are being faced with the challenge of personalizing their',\n",
       " '1',\n",
       " 'advertising efforts. In parallel, it has become common for enterprises to collect']"
      ]
     },
     "execution_count": 83,
     "metadata": {},
     "output_type": "execute_result"
    }
   ],
   "source": [
    "sentences = text.split('\\n')\n",
    "sentences[:30]"
   ]
  },
  {
   "cell_type": "code",
   "execution_count": 84,
   "id": "ba220035",
   "metadata": {},
   "outputs": [],
   "source": [
    "headings = ['Deﬁnition', 'Motivation and Background', 'Structure of Learning System','']"
   ]
  },
  {
   "cell_type": "code",
   "execution_count": 85,
   "id": "f5e16af3",
   "metadata": {},
   "outputs": [
    {
     "name": "stdout",
     "output_type": "stream",
     "text": [
      "[5, 23, 103, 122]\n"
     ]
    }
   ],
   "source": [
    "index_list = []\n",
    "for word in headings:\n",
    "    if word in sentences:\n",
    "        i = sentences.index(word)\n",
    "        index_list.append(i)\n",
    "print(index_list)"
   ]
  },
  {
   "cell_type": "code",
   "execution_count": 86,
   "id": "b22f5aa4",
   "metadata": {},
   "outputs": [
    {
     "name": "stdout",
     "output_type": "stream",
     "text": [
      "[['Deﬁnition', 'The goal of a Recommender System is to generate meaningful recommendations', 'to a collection of users for items or products that might interest them. Sugges-', 'tions for books on Amazon, or movies on Netﬂix, are real world examples of the', 'operation of industry-strength recommender systems. The design of such recom-', 'mendation engines depends on the domain and the particular characteristics of the', 'data available. For example, movie watchers on Netﬂix frequently provide rat-', 'ings on a scale of 1 (disliked) to 5 (liked). Such a data source records the quality', 'of interactions between users and items. Additionally, the system may have ac-', 'cess to user-speciﬁc and item-speciﬁc proﬁle attributes such as demographics and', 'product descriptions respectively. Recommender systems differ in the way they', 'analyze these data sources to develop notions of afﬁnity between users and items', 'which can be used to identify well-matched pairs. Collaborative Filtering sys-', 'tems analyze historical interactions alone, while Content-based Filtering systems', 'are based on proﬁle attributes; and Hybrid techniques attempt to combine both of', 'these designs. The architecture of recommender systems and their evaluation on', 'real-world problems is an active area of research.', '2'], ['Motivation and Background', 'Obtaining recommendations from trusted sources is a critical component of the', 'natural process of human decision making. With burgeoning consumerism buoyed', 'by the emergence of the web, buyers are being presented with an increasing range', 'of choices while sellers are being faced with the challenge of personalizing their', '1', 'advertising efforts. In parallel, it has become common for enterprises to collect', 'large volumes of transactional data that allows for deeper analysis of how a cus-', 'tomer base interacts with the space of product offerings. Recommender Systems', 'have evolved to fulﬁll the natural dual need of buyers and sellers by automating', 'the generation of recommendations based on data analysis.', 'The term “collaborative ﬁltering” was introduced in the context of the ﬁrst', 'commercial recommender system, called Tapestry[9], which was designed to rec-', 'ommend documents drawn from newsgroups to a collection of users. The mo-', 'tivation was to leverage social collaboration in order to prevent users from get-', 'ting inundated by a large volume of streaming documents. Collaborative ﬁltering,', 'which analyzes usage data across users to ﬁnd well matched user-item pairs, has', 'since been juxtaposed against the older methodology of content ﬁltering which', 'had its original roots in information retrieval. In content ﬁltering, recommenda-', 'tions are not “collaborative” in the sense that suggestions made to a user do not', 'explicitly utilize information across the entire user-base. Some early successes of', 'collaborative ﬁltering on related domains included the GroupLens system [29].', 'As noted in [4], initial formulations for recommender systems were based on', 'straightforward correlation statistics and predictive modeling, not engaging the', 'wider range of practices in statistics and machine learning literature. The col-', 'laborative ﬁltering problem was mapped to classiﬁcation, which allowed dimen-', 'sionality reduction techniques to be brought into play to improve the quality of the', 'solutions. Concurrently, several efforts attempted to combine content-based meth-', 'ods with collaborative ﬁltering, and to incorporate additional domain knowledge', 'in the architecture of recommender systems.', 'Further research was spurred by the public availability of datasets on the web,', 'and the interest generated due to direct relevance to e-commerce. Netﬂix, an on-', 'line streaming video and DVD rental service, released a large-scale dataset con-', 'taining 100 million ratings given by about half-a-million users to thousands of', 'movie titles, and announced an open competition for the best collaborative ﬁl-', 'tering algorithm in this domain. Matrix Factorization [38] techniques rooted in', 'numerical linear algebra and statistical matrix analysis emerged as a state of the', 'art technique.', 'Currently, Recommender Systems remain an active area of research, with a', 'dedicated ACM conference, intersecting several sub-disciplines of statistics, ma-', 'chine learning, data mining and information retrievals. Applications have been', 'pursued in diverse domains ranging from recommending webpages to music, books,', 'movies and other consumer products.', '2', 'Items', '1', '2', '...', 'i', '...', 'm', 'Users', '1', '5', '3', '1', '2', '2', '2', '4', ':', '5', 'u', '3', '4', '2', '1', ':', '4', 'n', '3', '2', 'a', '3', '5', '?', '1', 'Figure 1: User ratings matrix, where each cell ru,i corresponds to the rating of', 'user u for item i. The task is to predict the missing rating ra,i for the active user a.', '3'], ['Structure of Learning System', 'The most general setting in which recommender systems are studied is presented', 'in Figure 1. Known user preferences are represented as a matrix of n users and', 'm items, where each cell ru,i corresponds to the rating given to item i by the user', 'u. This user ratings matrix is typically sparse, as most users do not rate most', 'items. The recommendation task is to predict what rating a user would give to a', 'previously unrated item. Typically, ratings are predicted for all items that have not', 'been observed by a user, and the highest rated items are presented as recommen-', 'dations. The user under current consideration for recommendations is referred to', 'as the active user.', 'The myriad approaches to Recommender Systems can be broadly categorized as', '• Collaborative Filtering (CF): In CF systems a user is recommended items', 'based on the past ratings of all users collectively.', '• Content-based recommending: These approaches recommend items that are', 'similar in content to items the user has liked in the past, or matched to', 'attributes of the user.', '• Hybrid approaches: These methods combine both collaborative and content-', 'based approaches.', '3']]\n"
     ]
    }
   ],
   "source": [
    "final_info = []\n",
    "for k in range (0, len(index_list)-1):\n",
    "    information = []\n",
    "    for i in range (index_list[k],index_list[k+1]):\n",
    "        information.append(sentences[i])\n",
    "        \n",
    "    final_info.append(information)\n",
    "print(final_info)"
   ]
  },
  {
   "cell_type": "code",
   "execution_count": 87,
   "id": "14c27807",
   "metadata": {},
   "outputs": [
    {
     "data": {
      "text/plain": [
       "'Motivation and Background: Obtaining recommendations from trusted sources is a critical component of the: natural process of human decision making. With burgeoning consumerism buoyed: by the emergence of the web, buyers are being presented with an increasing range: of choices while sellers are being faced with the challenge of personalizing their: 1: advertising efforts. In parallel, it has become common for enterprises to collect: large volumes of transactional data that allows for deeper analysis of how a cus-: tomer base interacts with the space of product offerings. Recommender Systems: have evolved to fulﬁll the natural dual need of buyers and sellers by automating: the generation of recommendations based on data analysis.: The term “collaborative ﬁltering” was introduced in the context of the ﬁrst: commercial recommender system, called Tapestry[9], which was designed to rec-: ommend documents drawn from newsgroups to a collection of users. The mo-: tivation was to leverage social collaboration in order to prevent users from get-: ting inundated by a large volume of streaming documents. Collaborative ﬁltering,: which analyzes usage data across users to ﬁnd well matched user-item pairs, has: since been juxtaposed against the older methodology of content ﬁltering which: had its original roots in information retrieval. In content ﬁltering, recommenda-: tions are not “collaborative” in the sense that suggestions made to a user do not: explicitly utilize information across the entire user-base. Some early successes of: collaborative ﬁltering on related domains included the GroupLens system [29].: As noted in [4], initial formulations for recommender systems were based on: straightforward correlation statistics and predictive modeling, not engaging the: wider range of practices in statistics and machine learning literature. The col-: laborative ﬁltering problem was mapped to classiﬁcation, which allowed dimen-: sionality reduction techniques to be brought into play to improve the quality of the: solutions. Concurrently, several efforts attempted to combine content-based meth-: ods with collaborative ﬁltering, and to incorporate additional domain knowledge: in the architecture of recommender systems.: Further research was spurred by the public availability of datasets on the web,: and the interest generated due to direct relevance to e-commerce. Netﬂix, an on-: line streaming video and DVD rental service, released a large-scale dataset con-: taining 100 million ratings given by about half-a-million users to thousands of: movie titles, and announced an open competition for the best collaborative ﬁl-: tering algorithm in this domain. Matrix Factorization [38] techniques rooted in: numerical linear algebra and statistical matrix analysis emerged as a state of the: art technique.: Currently, Recommender Systems remain an active area of research, with a: dedicated ACM conference, intersecting several sub-disciplines of statistics, ma-: chine learning, data mining and information retrievals. Applications have been: pursued in diverse domains ranging from recommending webpages to music, books,: movies and other consumer products.: 2: Items: 1: 2: ...: i: ...: m: Users: 1: 5: 3: 1: 2: 2: 2: 4: :: 5: u: 3: 4: 2: 1: :: 4: n: 3: 2: a: 3: 5: ?: 1: Figure 1: User ratings matrix, where each cell ru,i corresponds to the rating of: user u for item i. The task is to predict the missing rating ra,i for the active user a.: 3'"
      ]
     },
     "execution_count": 87,
     "metadata": {},
     "output_type": "execute_result"
    }
   ],
   "source": [
    "out = ': '.join(final_info[1])\n",
    "out"
   ]
  },
  {
   "cell_type": "code",
   "execution_count": 41,
   "id": "0bf9500e",
   "metadata": {},
   "outputs": [],
   "source": [
    "f = open(\"files/output_of_researchpaper.txt\", \"a+\", encoding='utf8')\n",
    "f.write(out)\n",
    "f.write(\"\\n\")\n",
    "f.write(\"\\n\")\n",
    "f.close()"
   ]
  },
  {
   "cell_type": "code",
   "execution_count": null,
   "id": "19d763aa",
   "metadata": {},
   "outputs": [],
   "source": []
  },
  {
   "cell_type": "code",
   "execution_count": null,
   "id": "54b516a5",
   "metadata": {},
   "outputs": [],
   "source": []
  },
  {
   "cell_type": "code",
   "execution_count": 88,
   "id": "80cbb107",
   "metadata": {},
   "outputs": [
    {
     "data": {
      "text/plain": [
       "'INSTRUCTIONS FOR USING THE TWO-COLUMN WORD TEMPLATE \\n \\n \\n \\nThis is an instructional guide for using the Word Template that \\nhas built for two-column proceedings publications. Do not change \\nany of the template’s default settings. Once you have a copy of \\nthe template on your computer, you can place it in the Templates \\nfolder for Word and it will then be available to you whenever you \\nclick on the “New” option under the “File” menu. Please utilize \\nthe Word “Help” menu for more information on adding templates. \\n \\nIntroduction \\nThe TMS Word template includes the following: \\n• \\nCharacter and paragraph styles designed specifically for \\nTMS two-column proceedings publications \\n• \\nButtons that automate some commonly used tasks.  \\nThe margins and styles should remain constant for whatever \\nversion of Word you are using and whether you are using a \\nWindows or Macintosh computer. But, please note that the \\nbuttons use Macros that will work only in Word ‘97 and \\nsubsequent versions. \\n \\nLayout \\nWhen you begin your paper, be sure to create a new document \\nbased on this template (do not open up the template itself). The \\npaper size and margins for the template are setup already. These \\nare the dimensions necessary for a two-column proceeding \\nvolume; please do not make any changes and be sure that \\neverything in your paper (including all tables, artwork, etc.) is \\nwithin these margins – if anything lays outside of these margins, it \\nis in danger of being trimmed off. \\n \\nFirst Page \\nThe top of the first page of your paper contains the title of your \\npaper, all the author(s) name(s) with affiliation(s) and a list of \\nkeywords; blank lines should separate each of these sections. \\nAfter this information is set, please begin typing your paper, \\nstarting with the abstract. \\n \\nTitle and Authors \\nClick on the text “TITLE” and enter the title of your paper. After \\ntyping in the title, please follow the same procedure for clicking \\non and typing in the author(s) name(s), author(s) affiliation(s), and \\nkeywords. If there is more than one author, subsequent author \\nnames should follow on the same line as the first author \\nmentioned, continuing onto further lines as necessary; there \\nshould be a superscript number following each author name that \\ncorresponds to the proper affiliation. Each author affiliation \\nshould be put on a separate line (two lines if necessary), with a \\nsuperscript number at the beginning that corresponds to the \\ncorrect author(s) in the previous section. \\n \\nKeywords \\nBetween the author(s) affiliation(s) and Abstract, please enter at \\nleast three keywords appropriate for your paper. \\n \\n \\n \\n \\n \\nStyles \\nThis template has certain character/paragraph styles predefined. \\nAs you add in headings and paragraphs, you will need to make \\nsure that the new text received the proper formatting style; the \\nbuttons described later can help with this task. \\n \\nIf you have typed your paper in another software application and \\nare pasting it into this template, Word usually tries to retain \\noriginal formatting style. So, once the text is pasted in, you will \\nneed to apply the proper TMS style. \\n \\nHeading 1,TMS: First-Level Heading \\n \\nThis style should be used for any first-level headings, such as the \\nAbstract and Introduction headings. \\n \\n Font: \\nTime New Roman \\n Font Size: \\n9 pt. \\n Font Attributes: Bold; First letter of each word in caps \\n Alignment: \\nCentered \\n Spacing: \\nBlank line above and below \\n \\nHeading 2,TMS: Second-Level Heading \\n \\nThis style should be used for any second-level headings. \\n \\n Font: \\nTime New Roman \\n Font Size: \\n9 pt. \\n Font Attributes: Underlined; First letter of each word in caps \\n Alignment: \\nLeft justified \\n Spacing: \\nBlank line above and below \\n \\nHeading 3,TMS: Third-Level Heading. This style should be used \\nfor any third-level headings (if necessary). It is almost identical to \\nthe second-level haeding except that a second level paragraph \\nbegins two lines below the heading, whereas a third-level \\nparagraph begins on the same line, immediately following the \\nheading. \\n \\n Font: \\nTime New Roman \\n Font Size: \\n9 pt. \\n Font Attributes: Underlined; First letter of each word in caps \\n Alignment: \\nFully justified \\n Spacing: \\nBlank line above; being paragraph on same \\nline. \\nHeading 4,TMS: PAPER TITLE \\n \\nThis style should be sued for the paper title only. \\n \\n Font: \\nTime New Roman \\n Font Size: \\n11 pt. \\n Font Attributes: Bold; All caps \\n Alignment: \\nCentered \\n Spacing: \\nBlank line above and below \\n \\n \\n \\n \\n \\nTMS: Paragraph Style \\n \\nThis style should be used for the main text in the body of each \\nparagraph. \\n \\n Font: \\nTime New Roman \\n Font Size: \\n9 pt. \\n Font Attributes: None \\n Alignment: \\nFully Justified \\n Spacing: \\nUse single line space and block paragraphs \\n \\nΤΜΣ: Σψµβολ \\n \\nThis is the “Symbol” font; please use this whenever possible when \\ninserting special characters. \\n \\n Font: \\nSymbol \\n Font Size: \\n9 pt. \\n Font Attributes: None \\n \\nButtons \\n \\nThis template contains two toolbars shown in Figure 1. “TMS \\nTwo-Column Proceedings Toolbar #1” contains the following \\nbuttons: \\n• Insert Picture/Photo/Figure \\n• Insert Table \\n• Insert Text Box \\n• One-Column Format \\n• Two-Column Format \\n \\n “TMS Two-Column Proceedings Toolbar #2” contains the \\nfollowing buttons: \\n• Apply First-Level Heading \\n• Apply Second-Level Heading \\n• Apply Third-Level Heading \\n• Apply Paragraph Style \\n \\n \\nUsing Buttons \\nIn order for the buttons to work, the security settings for Words \\nmust be set to allow Macros run. This is done by going to the \\nfollowing menu: \\n “Tools” \\n  \\n“Macros” \\n  \\n \\n“Security” \\n \\nTo use the buttons, set the security to either the “Medium” or \\n“Low” settings. If you set the security to “Low,” then the buttons \\nwill work; if you set the security to “Medium,” when you launch \\nthe template, you will be prompted to either enable or disable \\nmacros – choose “Enable Macros” if you want the buttons to \\nfunction. \\n \\n“Insert” Buttons \\nThese buttons (Insert Picture/Photo/Figure, Insert Table and \\nInsert Text Box) are resident in the toolbar because they are \\ncommonly used tasks when preparing TMS papers. When \\ninserting any object, be sure that the object is kept within the \\nmargins of the paper. \\n \\nWhen you click on the Insert Picture/Photo/Figure button, the \\ncursor will first be centered, and then you will be taken to the \\nappropriate dialog box. You can save items such as graphs and \\nequations as a graphic file and use this button to insert them into \\nthe document – thus ensuring that they look correct and no \\ninformation is lost or changed. The preferred formats for graphic \\nimages are either EPS or TIF; using other formats, such as JPG or \\nGIF may decrease the value to some extent. \\n \\nOne/Two-Column Format Buttons \\nWhen working with a multiple column document, it is sometimes \\nnecessary to briefly switch to a single column format. These two \\nbuttons will help automate this process by inserting a section \\nbreak and creating a new section with the appropriate format. \\n \\n“Apply…” Buttons \\nThese buttons are resident in the toolbar to help automate \\napplying the correct styles to the text. Highlight the text you wish \\nto change and then click on the appropriate button to apply the \\nproper style. You may now begin typing the body of your paper.\\n \\n \\n \\n \\n \\n \\n \\n \\n \\n \\nFigure 1. TMS Two-Column Proceedings Toolbars. \\n'"
      ]
     },
     "execution_count": 88,
     "metadata": {},
     "output_type": "execute_result"
    }
   ],
   "source": [
    "with fitz.open('files/twocol.pdf') as doc:\n",
    "    final_text = ''\n",
    "    for page in doc:\n",
    "        text = page.get_text()\n",
    "        final_text = final_text + text\n",
    "final_text"
   ]
  },
  {
   "cell_type": "code",
   "execution_count": null,
   "id": "23d8a213",
   "metadata": {},
   "outputs": [],
   "source": []
  },
  {
   "cell_type": "code",
   "execution_count": null,
   "id": "87268740",
   "metadata": {},
   "outputs": [],
   "source": []
  },
  {
   "cell_type": "code",
   "execution_count": null,
   "id": "7a1d1c47",
   "metadata": {},
   "outputs": [],
   "source": []
  },
  {
   "cell_type": "code",
   "execution_count": null,
   "id": "b4f49c37",
   "metadata": {},
   "outputs": [],
   "source": []
  },
  {
   "cell_type": "code",
   "execution_count": null,
   "id": "cea51f76",
   "metadata": {},
   "outputs": [],
   "source": []
  }
 ],
 "metadata": {
  "kernelspec": {
   "display_name": "Python 3 (ipykernel)",
   "language": "python",
   "name": "python3"
  },
  "language_info": {
   "codemirror_mode": {
    "name": "ipython",
    "version": 3
   },
   "file_extension": ".py",
   "mimetype": "text/x-python",
   "name": "python",
   "nbconvert_exporter": "python",
   "pygments_lexer": "ipython3",
   "version": "3.8.13"
  }
 },
 "nbformat": 4,
 "nbformat_minor": 5
}
