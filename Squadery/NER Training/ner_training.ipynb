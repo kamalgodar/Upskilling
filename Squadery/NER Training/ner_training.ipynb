{
 "cells": [
  {
   "cell_type": "code",
   "execution_count": 1,
   "id": "11bb44f3",
   "metadata": {
    "executionInfo": {
     "elapsed": 1916,
     "status": "ok",
     "timestamp": 1658475122311,
     "user": {
      "displayName": "Shiva Ram Godar",
      "userId": "15995002689461806185"
     },
     "user_tz": -345
    },
    "id": "11bb44f3"
   },
   "outputs": [],
   "source": [
    "import nltk"
   ]
  },
  {
   "cell_type": "code",
   "execution_count": 2,
   "id": "6c4ryK1E8Oj-",
   "metadata": {
    "colab": {
     "base_uri": "https://localhost:8080/"
    },
    "executionInfo": {
     "elapsed": 25754,
     "status": "ok",
     "timestamp": 1658475157628,
     "user": {
      "displayName": "Shiva Ram Godar",
      "userId": "15995002689461806185"
     },
     "user_tz": -345
    },
    "id": "6c4ryK1E8Oj-",
    "outputId": "33085dd0-a7c8-44a7-8797-6d3c5d59ebf0"
   },
   "outputs": [
    {
     "name": "stdout",
     "output_type": "stream",
     "text": [
      "Mounted at /content/drive\n"
     ]
    }
   ],
   "source": [
    "from google.colab import drive\n",
    "drive.mount('/content/drive')"
   ]
  },
  {
   "cell_type": "markdown",
   "id": "27f38d5a",
   "metadata": {},
   "source": [
    "### Importing"
   ]
  },
  {
   "cell_type": "code",
   "execution_count": 3,
   "id": "c1b2f80b",
   "metadata": {
    "colab": {
     "base_uri": "https://localhost:8080/"
    },
    "executionInfo": {
     "elapsed": 3970,
     "status": "ok",
     "timestamp": 1658475169449,
     "user": {
      "displayName": "Shiva Ram Godar",
      "userId": "15995002689461806185"
     },
     "user_tz": -345
    },
    "id": "c1b2f80b",
    "outputId": "50026142-e9f7-43ce-ee8c-37d4b20610f0"
   },
   "outputs": [
    {
     "name": "stdout",
     "output_type": "stream",
     "text": [
      "-DOCSTART- -X- -X- O\n",
      "\n",
      "EU NNP B-NP B-ORG\n",
      "rejects VBZ B-VP O\n",
      "German JJ B-NP B-MISC\n",
      "call NN I-NP O\n",
      "to TO B-VP O\n",
      "boycott VB I-VP O\n",
      "British JJ B-NP B-MISC\n",
      "lamb NN I-NP O\n",
      ". . O O\n",
      "\n",
      "Peter NNP B-NP B-PER\n",
      "Black\n"
     ]
    }
   ],
   "source": [
    "with open('/content/drive/MyDrive/Colab Notebooks/NERTraining/data/conll2003/train.txt') as f:\n",
    "    train = f.read()\n",
    "\n",
    "print(train[:200])"
   ]
  },
  {
   "cell_type": "markdown",
   "id": "c0b7d213",
   "metadata": {},
   "source": [
    "### Pre-processing"
   ]
  },
  {
   "cell_type": "code",
   "execution_count": 12,
   "id": "b211474f",
   "metadata": {
    "colab": {
     "base_uri": "https://localhost:8080/"
    },
    "executionInfo": {
     "elapsed": 762,
     "status": "ok",
     "timestamp": 1658475386380,
     "user": {
      "displayName": "Shiva Ram Godar",
      "userId": "15995002689461806185"
     },
     "user_tz": -345
    },
    "id": "b211474f",
    "outputId": "18c3032b-a7df-4355-a46b-a5ecf8ca461b"
   },
   "outputs": [
    {
     "data": {
      "text/plain": [
       "['',\n",
       " 'EU NNP B-NP B-ORG',\n",
       " 'rejects VBZ B-VP O',\n",
       " 'German JJ B-NP B-MISC',\n",
       " 'call NN I-NP O',\n",
       " 'to TO B-VP O',\n",
       " 'boycott VB I-VP O',\n",
       " 'British JJ B-NP B-MISC',\n",
       " 'lamb NN I-NP O',\n",
       " '. . O O',\n",
       " '',\n",
       " 'Peter NNP B-NP B-PER',\n",
       " 'Blackburn NNP I-NP I-PER',\n",
       " '',\n",
       " 'BRUSSELS NNP B-NP B-LOC',\n",
       " '1996-08-22 CD I-NP O',\n",
       " '',\n",
       " 'The DT B-NP O',\n",
       " 'European NNP I-NP B-ORG',\n",
       " 'Commission NNP I-NP I-ORG']"
      ]
     },
     "execution_count": 12,
     "metadata": {},
     "output_type": "execute_result"
    }
   ],
   "source": [
    "sentence = train.split('\\n')\n",
    "sentence.remove(sentence[0])\n",
    "sentence[:20]"
   ]
  },
  {
   "cell_type": "markdown",
   "id": "10f83101",
   "metadata": {},
   "source": [
    "#### To JSON Format"
   ]
  },
  {
   "cell_type": "code",
   "execution_count": 15,
   "id": "7bbff4e8",
   "metadata": {
    "colab": {
     "base_uri": "https://localhost:8080/"
    },
    "executionInfo": {
     "elapsed": 1311,
     "status": "ok",
     "timestamp": 1658475414707,
     "user": {
      "displayName": "Shiva Ram Godar",
      "userId": "15995002689461806185"
     },
     "user_tz": -345
    },
    "id": "7bbff4e8",
    "outputId": "8b5629fb-179c-4b1e-d65d-9408c97e9870"
   },
   "outputs": [
    {
     "data": {
      "text/plain": [
       "['EU rejects German call to boycott British lamb ',\n",
       " ['B-ORG', 'O', 'B-MISC', 'O', 'O', 'O', 'B-MISC', 'O'],\n",
       " 'Peter Blackburn BRUSSELS 1996-08-22 The European Commission said on Thursday it disagreed with German advice to consumers to shun British lamb until scientists determine whether mad cow disease can be transmitted to sheep ',\n",
       " ['B-PER',\n",
       "  'I-PER',\n",
       "  'B-LOC',\n",
       "  'O',\n",
       "  'O',\n",
       "  'B-ORG',\n",
       "  'I-ORG',\n",
       "  'O',\n",
       "  'O',\n",
       "  'O',\n",
       "  'O',\n",
       "  'O',\n",
       "  'O',\n",
       "  'B-MISC',\n",
       "  'O',\n",
       "  'O',\n",
       "  'O',\n",
       "  'O',\n",
       "  'O',\n",
       "  'B-MISC',\n",
       "  'O',\n",
       "  'O',\n",
       "  'O',\n",
       "  'O',\n",
       "  'O',\n",
       "  'O',\n",
       "  'O',\n",
       "  'O',\n",
       "  'O',\n",
       "  'O',\n",
       "  'O',\n",
       "  'O',\n",
       "  'O'],\n",
       " \"Germany 's representative to the European Union 's veterinary committee Werner Zwingmann said on Wednesday consumers should buy sheepmeat from countries other than Britain until the scientific advice was clearer \"]"
      ]
     },
     "execution_count": 15,
     "metadata": {},
     "output_type": "execute_result"
    }
   ],
   "source": [
    "sent = ''\n",
    "all_sent =[]\n",
    "iob = []\n",
    "\n",
    "for word in sentence:\n",
    "  word_list=word.split()\n",
    "  if len(word_list)>0 and word_list[0] == '.' :\n",
    "    all_sent.append(sent)\n",
    "    all_sent.append(iob)\n",
    "    sent =''\n",
    "    iob =[]\n",
    "  else:\n",
    "    if len(word_list)>0:\n",
    "      # print(word_list[-1])\n",
    "      iob.append(word_list[-1])\n",
    "      sent += word_list[0]\n",
    "      sent += ' '\n",
    "\n",
    "all_sent[:5]"
   ]
  },
  {
   "cell_type": "code",
   "execution_count": 18,
   "id": "60b1524f",
   "metadata": {
    "colab": {
     "base_uri": "https://localhost:8080/"
    },
    "executionInfo": {
     "elapsed": 919,
     "status": "ok",
     "timestamp": 1658475478864,
     "user": {
      "displayName": "Shiva Ram Godar",
      "userId": "15995002689461806185"
     },
     "user_tz": -345
    },
    "id": "60b1524f",
    "outputId": "991caa32-72ad-4b69-ca3e-bd2e77254618"
   },
   "outputs": [
    {
     "data": {
      "text/plain": [
       "[['EU rejects German call to boycott British lamb ',\n",
       "  [[0, 2, 'B-ORG'],\n",
       "   [3, 10, 'O'],\n",
       "   [11, 17, 'B-MISC'],\n",
       "   [18, 22, 'O'],\n",
       "   [23, 25, 'O'],\n",
       "   [26, 33, 'O'],\n",
       "   [34, 41, 'B-MISC'],\n",
       "   [42, 46, 'O']]],\n",
       " ['Peter Blackburn BRUSSELS 1996-08-22 The European Commission said on Thursday it disagreed with German advice to consumers to shun British lamb until scientists determine whether mad cow disease can be transmitted to sheep ',\n",
       "  [[0, 5, 'B-PER'],\n",
       "   [6, 15, 'I-PER'],\n",
       "   [16, 24, 'B-LOC'],\n",
       "   [25, 35, 'O'],\n",
       "   [36, 39, 'O'],\n",
       "   [40, 48, 'B-ORG'],\n",
       "   [49, 59, 'I-ORG'],\n",
       "   [60, 64, 'O'],\n",
       "   [65, 67, 'O'],\n",
       "   [68, 76, 'O'],\n",
       "   [77, 79, 'O'],\n",
       "   [80, 89, 'O'],\n",
       "   [90, 94, 'O'],\n",
       "   [95, 101, 'B-MISC'],\n",
       "   [102, 108, 'O'],\n",
       "   [109, 111, 'O'],\n",
       "   [112, 121, 'O'],\n",
       "   [122, 124, 'O'],\n",
       "   [125, 129, 'O'],\n",
       "   [130, 137, 'B-MISC'],\n",
       "   [138, 142, 'O'],\n",
       "   [143, 148, 'O'],\n",
       "   [149, 159, 'O'],\n",
       "   [160, 169, 'O'],\n",
       "   [170, 177, 'O'],\n",
       "   [178, 181, 'O'],\n",
       "   [182, 185, 'O'],\n",
       "   [186, 193, 'O'],\n",
       "   [194, 197, 'O'],\n",
       "   [198, 200, 'O'],\n",
       "   [201, 212, 'O'],\n",
       "   [213, 215, 'O'],\n",
       "   [216, 221, 'O']]]]"
      ]
     },
     "execution_count": 18,
     "metadata": {},
     "output_type": "execute_result"
    }
   ],
   "source": [
    "# for i in range(0,len(all_sent),2):\n",
    "conll_data = []\n",
    "for i in range(0,len(all_sent),2):\n",
    "    sent_and_entities = []\n",
    "    sentence = all_sent[i]\n",
    "    entities = all_sent[i+1]\n",
    "    start =0 \n",
    "    sent_and_entities.append(sentence)\n",
    "#     print(sentence)\n",
    "    words_in_sent = sentence.split()\n",
    "#     print(words_in_sent)\n",
    "    span_of_entities =[]\n",
    "    for word in words_in_sent:\n",
    "        word_len = len(word)\n",
    "        entity = entities[words_in_sent.index(word)]\n",
    "        span = [start,  start + word_len, entity]\n",
    "        start = start+word_len + 1\n",
    "        span_of_entities.append(span)\n",
    "    sent_and_entities.append(span_of_entities)\n",
    "    \n",
    "    conll_data.append(sent_and_entities)\n",
    "\n",
    "conll_data[:2]"
   ]
  },
  {
   "cell_type": "code",
   "execution_count": 20,
   "id": "41db28b2",
   "metadata": {
    "executionInfo": {
     "elapsed": 1409,
     "status": "ok",
     "timestamp": 1658475532319,
     "user": {
      "displayName": "Shiva Ram Godar",
      "userId": "15995002689461806185"
     },
     "user_tz": -345
    },
    "id": "41db28b2"
   },
   "outputs": [],
   "source": [
    "import json\n",
    "\n",
    "def save_data(file, data):\n",
    "    with open(file, \"w\", encoding=\"utf=8\") as f:\n",
    "        json.dump(data, f, indent=2)\n",
    "        \n",
    "save_data(\"conll_dev.json\", conll_data)"
   ]
  },
  {
   "cell_type": "code",
   "execution_count": 21,
   "id": "0bb1c448",
   "metadata": {
    "executionInfo": {
     "elapsed": 2,
     "status": "ok",
     "timestamp": 1658475532319,
     "user": {
      "displayName": "Shiva Ram Godar",
      "userId": "15995002689461806185"
     },
     "user_tz": -345
    },
    "id": "0bb1c448"
   },
   "outputs": [],
   "source": [
    "def load_data(file):\n",
    "    with open(file, \"r\", encoding=\"utf-8\") as f:\n",
    "        data = json.load(f)\n",
    "    return data\n",
    "\n",
    "conll_data = load_data('conll_dev.json')"
   ]
  },
  {
   "cell_type": "code",
   "execution_count": 19,
   "id": "5c436b6d",
   "metadata": {
    "colab": {
     "base_uri": "https://localhost:8080/"
    },
    "executionInfo": {
     "elapsed": 3,
     "status": "ok",
     "timestamp": 1658475523204,
     "user": {
      "displayName": "Shiva Ram Godar",
      "userId": "15995002689461806185"
     },
     "user_tz": -345
    },
    "id": "5c436b6d",
    "outputId": "7881fe9d-1ed7-4b35-dc92-ff415c25e349"
   },
   "outputs": [
    {
     "data": {
      "text/plain": [
       "[['EU rejects German call to boycott British lamb ',\n",
       "  [[0, 2, 'B-ORG'],\n",
       "   [3, 10, 'O'],\n",
       "   [11, 17, 'B-MISC'],\n",
       "   [18, 22, 'O'],\n",
       "   [23, 25, 'O'],\n",
       "   [26, 33, 'O'],\n",
       "   [34, 41, 'B-MISC'],\n",
       "   [42, 46, 'O']]],\n",
       " ['Peter Blackburn BRUSSELS 1996-08-22 The European Commission said on Thursday it disagreed with German advice to consumers to shun British lamb until scientists determine whether mad cow disease can be transmitted to sheep ',\n",
       "  [[0, 5, 'B-PER'],\n",
       "   [6, 15, 'I-PER'],\n",
       "   [16, 24, 'B-LOC'],\n",
       "   [25, 35, 'O'],\n",
       "   [36, 39, 'O'],\n",
       "   [40, 48, 'B-ORG'],\n",
       "   [49, 59, 'I-ORG'],\n",
       "   [60, 64, 'O'],\n",
       "   [65, 67, 'O'],\n",
       "   [68, 76, 'O'],\n",
       "   [77, 79, 'O'],\n",
       "   [80, 89, 'O'],\n",
       "   [90, 94, 'O'],\n",
       "   [95, 101, 'B-MISC'],\n",
       "   [102, 108, 'O'],\n",
       "   [109, 111, 'O'],\n",
       "   [112, 121, 'O'],\n",
       "   [122, 124, 'O'],\n",
       "   [125, 129, 'O'],\n",
       "   [130, 137, 'B-MISC'],\n",
       "   [138, 142, 'O'],\n",
       "   [143, 148, 'O'],\n",
       "   [149, 159, 'O'],\n",
       "   [160, 169, 'O'],\n",
       "   [170, 177, 'O'],\n",
       "   [178, 181, 'O'],\n",
       "   [182, 185, 'O'],\n",
       "   [186, 193, 'O'],\n",
       "   [194, 197, 'O'],\n",
       "   [198, 200, 'O'],\n",
       "   [201, 212, 'O'],\n",
       "   [213, 215, 'O'],\n",
       "   [216, 221, 'O']]]]"
      ]
     },
     "execution_count": 19,
     "metadata": {},
     "output_type": "execute_result"
    }
   ],
   "source": [
    "conll_data[:2]"
   ]
  },
  {
   "cell_type": "markdown",
   "id": "b7baf563",
   "metadata": {},
   "source": [
    "#### To Spacy Format"
   ]
  },
  {
   "cell_type": "code",
   "execution_count": 22,
   "id": "2e869f04",
   "metadata": {
    "executionInfo": {
     "elapsed": 10372,
     "status": "ok",
     "timestamp": 1658475579896,
     "user": {
      "displayName": "Shiva Ram Godar",
      "userId": "15995002689461806185"
     },
     "user_tz": -345
    },
    "id": "2e869f04"
   },
   "outputs": [],
   "source": [
    "import spacy\n",
    "from spacy.tokens import DocBin\n",
    "\n",
    "nlp = spacy.blank(\"en\") # blank spacy pipeline created\n",
    "db = DocBin()\n",
    "\n",
    "for text, annotations in conll_data:\n",
    "    doc = nlp(text)\n",
    "    ents = []\n",
    "    for start, end, label in annotations:\n",
    "        span = doc.char_span(start, end, label=label)\n",
    "        if span is None:\n",
    "            pass\n",
    "        else:\n",
    "            ents.append(span)\n",
    "    doc.ents = ents\n",
    "    db.add(doc)\n",
    "db.to_disk(\"./dev.spacy\")"
   ]
  },
  {
   "cell_type": "markdown",
   "id": "7630339b",
   "metadata": {},
   "source": [
    "### Training"
   ]
  },
  {
   "cell_type": "code",
   "execution_count": 35,
   "id": "4fe18131",
   "metadata": {
    "executionInfo": {
     "elapsed": 1029,
     "status": "ok",
     "timestamp": 1658476225450,
     "user": {
      "displayName": "Shiva Ram Godar",
      "userId": "15995002689461806185"
     },
     "user_tz": -345
    },
    "id": "4fe18131"
   },
   "outputs": [],
   "source": [
    "# !pip install transformers\n",
    "# !pip install spacy-transformers"
   ]
  },
  {
   "cell_type": "code",
   "execution_count": 27,
   "id": "da0cc9aa",
   "metadata": {
    "executionInfo": {
     "elapsed": 615,
     "status": "ok",
     "timestamp": 1658475743817,
     "user": {
      "displayName": "Shiva Ram Godar",
      "userId": "15995002689461806185"
     },
     "user_tz": -345
    },
    "id": "da0cc9aa"
   },
   "outputs": [],
   "source": [
    "import transformers\n",
    "import spacy_transformers"
   ]
  },
  {
   "cell_type": "code",
   "execution_count": 28,
   "id": "40a4b4e7",
   "metadata": {
    "colab": {
     "base_uri": "https://localhost:8080/"
    },
    "executionInfo": {
     "elapsed": 5196,
     "status": "ok",
     "timestamp": 1658475753339,
     "user": {
      "displayName": "Shiva Ram Godar",
      "userId": "15995002689461806185"
     },
     "user_tz": -345
    },
    "id": "40a4b4e7",
    "outputId": "1a099203-59af-4083-aa52-2a37e03e6171"
   },
   "outputs": [
    {
     "name": "stdout",
     "output_type": "stream",
     "text": [
      "\u001b[38;5;2m✔ Auto-filled config with all values\u001b[0m\n",
      "\u001b[38;5;2m✔ Saved config\u001b[0m\n",
      "/content/drive/MyDrive/Colab Notebooks/NERTraining/config.cfg\n",
      "You can now add your data and train your pipeline:\n",
      "python -m spacy train config.cfg --paths.train ./train.spacy --paths.dev ./dev.spacy\n"
     ]
    }
   ],
   "source": [
    "!python -m spacy init fill-config '/content/drive/MyDrive/Colab Notebooks/NERTraining/base_config.cfg' '/content/drive/MyDrive/Colab Notebooks/NERTraining/config.cfg'"
   ]
  },
  {
   "cell_type": "code",
   "execution_count": 36,
   "id": "fbmfiDa5_5K_",
   "metadata": {
    "colab": {
     "base_uri": "https://localhost:8080/"
    },
    "executionInfo": {
     "elapsed": 4157694,
     "status": "ok",
     "timestamp": 1658480530788,
     "user": {
      "displayName": "Shiva Ram Godar",
      "userId": "15995002689461806185"
     },
     "user_tz": -345
    },
    "id": "fbmfiDa5_5K_",
    "outputId": "597c7ce5-cbed-464d-fb89-57ef23605c84"
   },
   "outputs": [
    {
     "name": "stdout",
     "output_type": "stream",
     "text": [
      "\u001b[38;5;2m✔ Created output directory: /content/drive/MyDrive/Colab\n",
      "Notebooks/NERTraining/model_transformer\u001b[0m\n",
      "\u001b[38;5;4mℹ Saving to output directory: /content/drive/MyDrive/Colab\n",
      "Notebooks/NERTraining/model_transformer\u001b[0m\n",
      "\u001b[38;5;4mℹ Using CPU\u001b[0m\n",
      "\u001b[38;5;4mℹ To switch to GPU 0, use the option: --gpu-id 0\u001b[0m\n",
      "\u001b[1m\n",
      "=========================== Initializing pipeline ===========================\u001b[0m\n",
      "[2022-07-22 07:52:57,746] [INFO] Set up nlp object from config\n",
      "[2022-07-22 07:52:57,756] [INFO] Pipeline: ['transformer', 'ner']\n",
      "[2022-07-22 07:52:57,760] [INFO] Created vocabulary\n",
      "[2022-07-22 07:52:57,761] [INFO] Finished initializing nlp object\n",
      "Downloading: 100% 481/481 [00:00<00:00, 426kB/s]\n",
      "Downloading: 100% 878k/878k [00:01<00:00, 681kB/s]\n",
      "Downloading: 100% 446k/446k [00:00<00:00, 521kB/s]\n",
      "Downloading: 100% 1.29M/1.29M [00:01<00:00, 1.02MB/s]\n",
      "Downloading: 100% 478M/478M [00:06<00:00, 72.5MB/s]\n",
      "Some weights of the model checkpoint at roberta-base were not used when initializing RobertaModel: ['lm_head.bias', 'lm_head.layer_norm.bias', 'lm_head.dense.weight', 'lm_head.dense.bias', 'lm_head.layer_norm.weight', 'lm_head.decoder.weight']\n",
      "- This IS expected if you are initializing RobertaModel from the checkpoint of a model trained on another task or with another architecture (e.g. initializing a BertForSequenceClassification model from a BertForPreTraining model).\n",
      "- This IS NOT expected if you are initializing RobertaModel from the checkpoint of a model that you expect to be exactly identical (initializing a BertForSequenceClassification model from a BertForSequenceClassification model).\n",
      "[2022-07-22 07:53:29,417] [INFO] Initialized pipeline components: ['transformer', 'ner']\n",
      "\u001b[38;5;2m✔ Initialized pipeline\u001b[0m\n",
      "\u001b[1m\n",
      "============================= Training pipeline =============================\u001b[0m\n",
      "\u001b[38;5;4mℹ Pipeline: ['transformer', 'ner']\u001b[0m\n",
      "\u001b[38;5;4mℹ Initial learn rate: 0.0\u001b[0m\n",
      "E    #       LOSS TRANS...  LOSS NER  ENTS_F  ENTS_P  ENTS_R  SCORE \n",
      "---  ------  -------------  --------  ------  ------  ------  ------\n",
      "  0       0        8077.95    431.48    0.00    0.00    0.00    0.00\n",
      "\n",
      "Aborted!\n"
     ]
    }
   ],
   "source": [
    "!python -m spacy train '/content/drive/MyDrive/Colab Notebooks/NERTraining/config.cfg' --output '/content/drive/MyDrive/Colab Notebooks/NERTraining/model_transformer' --paths.train '/content/drive/MyDrive/Colab Notebooks/NERTraining/train.spacy' --paths.dev '/content/drive/MyDrive/Colab Notebooks/NERTraining/dev.spacy'"
   ]
  },
  {
   "cell_type": "markdown",
   "id": "48393386",
   "metadata": {},
   "source": [
    "### Testing"
   ]
  },
  {
   "cell_type": "code",
   "execution_count": 58,
   "id": "0AMlQicFXEM-",
   "metadata": {
    "executionInfo": {
     "elapsed": 1,
     "status": "ok",
     "timestamp": 1658481008989,
     "user": {
      "displayName": "Shiva Ram Godar",
      "userId": "15995002689461806185"
     },
     "user_tz": -345
    },
    "id": "0AMlQicFXEM-"
   },
   "outputs": [],
   "source": [
    "import spacy\n",
    "text = \"Facebook company is headquatered in United States of America.\"\n",
    "# text = \"EU rejects German call to boycott British lamb \""
   ]
  },
  {
   "cell_type": "code",
   "execution_count": 55,
   "id": "mWoLq_p1X4WE",
   "metadata": {
    "executionInfo": {
     "elapsed": 3665,
     "status": "ok",
     "timestamp": 1658480990652,
     "user": {
      "displayName": "Shiva Ram Godar",
      "userId": "15995002689461806185"
     },
     "user_tz": -345
    },
    "id": "mWoLq_p1X4WE"
   },
   "outputs": [],
   "source": [
    "nlp = spacy.load(\"/content/drive/MyDrive/Colab Notebooks/NERTraining/model_transformer/model-last\")"
   ]
  },
  {
   "cell_type": "code",
   "execution_count": 59,
   "id": "cMnsyicZX4Y9",
   "metadata": {
    "colab": {
     "base_uri": "https://localhost:8080/"
    },
    "executionInfo": {
     "elapsed": 693,
     "status": "ok",
     "timestamp": 1658481013476,
     "user": {
      "displayName": "Shiva Ram Godar",
      "userId": "15995002689461806185"
     },
     "user_tz": -345
    },
    "id": "cMnsyicZX4Y9",
    "outputId": "f9137e7d-9efa-4a97-8ee0-3892c740156c"
   },
   "outputs": [
    {
     "name": "stdout",
     "output_type": "stream",
     "text": [
      "Facebook company is headquatered in United States of America.\n"
     ]
    }
   ],
   "source": [
    "doc = nlp(text)\n",
    "print(doc)"
   ]
  },
  {
   "cell_type": "code",
   "execution_count": 60,
   "id": "sdgoobZ6X4b4",
   "metadata": {
    "colab": {
     "base_uri": "https://localhost:8080/"
    },
    "executionInfo": {
     "elapsed": 3,
     "status": "ok",
     "timestamp": 1658481013476,
     "user": {
      "displayName": "Shiva Ram Godar",
      "userId": "15995002689461806185"
     },
     "user_tz": -345
    },
    "id": "sdgoobZ6X4b4",
    "outputId": "649152ae-02e9-454b-8ca1-e92e151ada86"
   },
   "outputs": [
    {
     "name": "stdout",
     "output_type": "stream",
     "text": [
      "Facebook B-ORG\n",
      "company O\n",
      "is O\n",
      "headquatered O\n",
      "in O\n",
      "United B-LOC\n",
      "States I-LOC\n",
      "of I-LOC\n",
      "America I-LOC\n",
      ". B-MISC\n"
     ]
    }
   ],
   "source": [
    "for ent in doc.ents:\n",
    "    print(ent.text, ent.label_)"
   ]
  },
  {
   "cell_type": "code",
   "execution_count": null,
   "id": "1ksXLM2WXEQM",
   "metadata": {
    "id": "1ksXLM2WXEQM"
   },
   "outputs": [],
   "source": []
  },
  {
   "cell_type": "code",
   "execution_count": null,
   "id": "7ktahkQbAlsB",
   "metadata": {
    "id": "7ktahkQbAlsB"
   },
   "outputs": [],
   "source": [
    "# !python -m spacy evaluate ./my-model ./test-data.spacy"
   ]
  },
  {
   "cell_type": "code",
   "execution_count": null,
   "id": "5HEIlQ3fAlur",
   "metadata": {
    "id": "5HEIlQ3fAlur"
   },
   "outputs": [],
   "source": []
  },
  {
   "cell_type": "code",
   "execution_count": null,
   "id": "x3gTKQmw_5V4",
   "metadata": {
    "id": "x3gTKQmw_5V4"
   },
   "outputs": [],
   "source": []
  }
 ],
 "metadata": {
  "accelerator": "GPU",
  "colab": {
   "collapsed_sections": [
    "cebed499"
   ],
   "name": "ner_training.ipynb",
   "provenance": []
  },
  "gpuClass": "standard",
  "kernelspec": {
   "display_name": "Python 3 (ipykernel)",
   "language": "python",
   "name": "python3"
  },
  "language_info": {
   "codemirror_mode": {
    "name": "ipython",
    "version": 3
   },
   "file_extension": ".py",
   "mimetype": "text/x-python",
   "name": "python",
   "nbconvert_exporter": "python",
   "pygments_lexer": "ipython3",
   "version": "3.8.13"
  }
 },
 "nbformat": 4,
 "nbformat_minor": 5
}
