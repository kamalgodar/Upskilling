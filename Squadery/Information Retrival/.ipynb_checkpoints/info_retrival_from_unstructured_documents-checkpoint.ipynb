{
 "cells": [
  {
   "cell_type": "code",
   "execution_count": 5,
   "id": "60b6a463",
   "metadata": {},
   "outputs": [
    {
     "data": {
      "text/plain": [
       "'ï»¿Introduction\\nThis is a introduction section. this contains the brief information about the topic.\\n\\nLiterature review\\nThis ia a literature review. this contains the information about what has already happened in the filed.\\n\\nTheory\\nThis contains the background related theory. All the concepts used in the research or project.\\n\\nConclusion\\nThis contains the concluding text. What were the outputs from the project.'"
      ]
     },
     "execution_count": 5,
     "metadata": {},
     "output_type": "execute_result"
    }
   ],
   "source": [
    "with open (\"files/dummy1.txt\", \"r\") as f:\n",
    "    text = f.read()\n",
    "text"
   ]
  },
  {
   "cell_type": "code",
   "execution_count": null,
   "id": "e11e0f00",
   "metadata": {},
   "outputs": [],
   "source": []
  },
  {
   "cell_type": "code",
   "execution_count": null,
   "id": "bfe0228d",
   "metadata": {},
   "outputs": [],
   "source": []
  },
  {
   "cell_type": "code",
   "execution_count": null,
   "id": "7f9d7c19",
   "metadata": {},
   "outputs": [],
   "source": []
  },
  {
   "cell_type": "code",
   "execution_count": 167,
   "id": "608be358",
   "metadata": {},
   "outputs": [],
   "source": [
    "# ! pip install docx2txt"
   ]
  },
  {
   "cell_type": "code",
   "execution_count": 7,
   "id": "2a2b4926",
   "metadata": {},
   "outputs": [
    {
     "data": {
      "text/plain": [
       "'Introduction\\n\\nThis is a introduction section. this contains the brief information about the topic.\\n\\n\\n\\nLiterature review\\n\\nThis ia a literature review. this contains the information about what has already happened in the filed.\\n\\n  \\n\\nTheory\\n\\nThis contains the background related theory. All the concepts used in the research or project.\\n\\n\\n\\nConclusion\\n\\nThis contains the concluding text. What were the outputs from the project.\\n\\n\\n\\nMessi\\n\\nThis is a doc file.'"
      ]
     },
     "execution_count": 7,
     "metadata": {},
     "output_type": "execute_result"
    }
   ],
   "source": [
    "import docx2txt\n",
    "my_text = docx2txt.process(\"files/example1.docx\")\n",
    "my_text"
   ]
  },
  {
   "cell_type": "code",
   "execution_count": null,
   "id": "9baa9ac2",
   "metadata": {},
   "outputs": [],
   "source": []
  },
  {
   "cell_type": "code",
   "execution_count": null,
   "id": "bf409c88",
   "metadata": {},
   "outputs": [],
   "source": []
  },
  {
   "cell_type": "code",
   "execution_count": null,
   "id": "e20e0cca",
   "metadata": {},
   "outputs": [],
   "source": []
  },
  {
   "cell_type": "code",
   "execution_count": 166,
   "id": "a6d3219a",
   "metadata": {},
   "outputs": [],
   "source": [
    "# ! pip install textract"
   ]
  },
  {
   "cell_type": "code",
   "execution_count": 13,
   "id": "884d694d",
   "metadata": {},
   "outputs": [
    {
     "data": {
      "text/plain": [
       "'Introduction\\n\\nThis is a introduction section. this contains the brief information about the topic.\\n\\n\\n\\nLiterature review\\n\\nThis ia a literature review. this contains the information about what has already happened in the filed.\\n\\n  \\n\\nTheory\\n\\nThis contains the background related theory. All the concepts used in the research or project.\\n\\n\\n\\nConclusion\\n\\nThis contains the concluding text. What were the outputs from the project.\\n\\n\\n\\nMessi\\n\\nThis is a doc file.'"
      ]
     },
     "execution_count": 13,
     "metadata": {},
     "output_type": "execute_result"
    }
   ],
   "source": [
    "import textract\n",
    "\n",
    "text = textract.process(\"files/example1.docx\")\n",
    "text = text.decode(\"utf-8\") # converts from bytestring to string\n",
    "text"
   ]
  },
  {
   "cell_type": "code",
   "execution_count": null,
   "id": "61f2d4cd",
   "metadata": {},
   "outputs": [],
   "source": []
  },
  {
   "cell_type": "code",
   "execution_count": null,
   "id": "61667f67",
   "metadata": {},
   "outputs": [],
   "source": []
  },
  {
   "cell_type": "code",
   "execution_count": null,
   "id": "5b562615",
   "metadata": {},
   "outputs": [],
   "source": []
  },
  {
   "cell_type": "code",
   "execution_count": 15,
   "id": "530678b1",
   "metadata": {},
   "outputs": [],
   "source": [
    "# ! pip install pymupdf"
   ]
  },
  {
   "cell_type": "markdown",
   "id": "63f429b9",
   "metadata": {},
   "source": [
    "With PyMuPDF you can access files with extensions like “.pdf”, “.xps”, “.oxps”, “.cbz”, “.fb2” or “.epub”."
   ]
  },
  {
   "cell_type": "code",
   "execution_count": 60,
   "id": "0af1c936",
   "metadata": {},
   "outputs": [
    {
     "name": "stdout",
     "output_type": "stream",
     "text": [
      "Document('files/example.pdf')\n"
     ]
    }
   ],
   "source": [
    "import fitz\n",
    "doc = fitz.open('files/example.pdf') # Document object is created"
   ]
  },
  {
   "cell_type": "code",
   "execution_count": 61,
   "id": "7a40dec6",
   "metadata": {},
   "outputs": [
    {
     "data": {
      "text/plain": [
       "2"
      ]
     },
     "execution_count": 61,
     "metadata": {},
     "output_type": "execute_result"
    }
   ],
   "source": [
    "doc.page_count"
   ]
  },
  {
   "cell_type": "code",
   "execution_count": 80,
   "id": "34f536c4",
   "metadata": {},
   "outputs": [],
   "source": [
    "page = doc.load_page(0)  # loads page number 'pno' of the document (0-based)\n",
    "page2 = doc[1]  # the short form"
   ]
  },
  {
   "cell_type": "code",
   "execution_count": 84,
   "id": "752dd6cf",
   "metadata": {},
   "outputs": [
    {
     "data": {
      "text/plain": [
       "\"Introduction\\nThis is a introduction section. this contains the brief information about the topic.\\nLiterature review\\nThis ia a literature review. this contains the information about what has already happened in the\\nfiled.\\nTheory\\nThis contains the background related theory. All the concepts used in the research or project.\\nConclusion\\nThis contains the concluding text. What were the outputs from the project.\\nMessi\\nLionel Andrés Messi[note 1] (Spanish pronunciation: [ljoˈnel anˈdɾes ˈmesi] (\\nlisten); born 24 June\\n1987), also known as Leo Messi, is an Argentine professional footballer who plays as a forward for\\nLigue 1 club Paris Saint-Germain and captains the Argentina national team. Often considered the\\nbest player in the world and widely regarded as one of the greatest players of all time, Messi has\\nwon a record seven Ballon d'Or awards,[note 2] a record six European Golden Shoes, and in 2020\\nwas named to the Ballon d'Or Dream Team. Until leaving the club in 2021, he had spent his entire\\nprofessional career with Barcelona, where he won a club-record 35 trophies, including ten La Liga\\ntitles, seven Copa del Rey titles and four UEFA Champions Leagues. A prolific goalscorer and\\ncreative playmaker, Messi holds the records for most goals in La Liga (474), a La Liga and European\\nleague season (50), most hat-tricks in La Liga (36) and the UEFA Champions League (8), and most\\nassists in La Liga (192), a La Liga season (21) and the Copa América (17). He also holds the record\\nfor most international goals by a South American male (86). Messi has scored over 750 senior\\ncareer goals for club and country, and has the most goals by a player for a single club.\\nBorn and raised in central Argentina, Messi relocated to Spain to join Barcelona at the age of 13, for\\nwhom he made his competitive debut aged 17 in October 2004. He established himself as an\\nintegral player for the club within the next three years, and in his first uninterrupted season in\\n2008–09 he helped Barcelona achieve the first treble in Spanish football; that year, aged 22, Messi\\nwon his first Ballon d'Or. Three successful seasons followed, with Messi winning four consecutive\\nBallons d'Or, making him the first player to win the award four times and in a row.[10] During the\\n2011–12 season, he set the La Liga and European records for most goals scored in a single season,\\nwhile establishing himself as Barcelona's all-time top scorer. The following two seasons, Messi\\nfinished second for the Ballon d'Or behind Cristiano Ronaldo (his perceived career rival), before\\nregaining his best form during the 2014–15 campaign, becoming the all-time top scorer in La Liga\\nand leading Barcelona to a historic second treble, after which he was awarded a fifth Ballon d'Or in\\n2015. Messi assumed captaincy of Barcelona in 2018, and in 2019 he won a record sixth Ballon\\nd'Or. Out of contract, he signed for Paris Saint-Germain in August 2021.\\nAn Argentine international, Messi holds the national record for appearances and is also the country's\\nall-time leading goalscorer. At youth level, he won the 2005 FIFA World Youth Championship,\\nfinishing the tournament with both the Golden Ball and Golden Shoe, and an Olympic gold medal at\\nthe 2008 Summer Olympics. His style of play as a diminutive, left-footed dribbler drew comparisons\\nwith his compatriot Diego Maradona, who described Messi as his successor. After his senior debut\\nin August 2005, Messi became the youngest Argentine to play and score in a FIFA World Cup in\\n2006, and reached the final of the 2007 Copa América, where he was named young player of the\\ntournament. As the squad's captain from August 2011, he led Argentina to three consecutive finals:\\nthe 2014 FIFA World Cup, for which he won the Golden Ball, and the 2015 and 2016 Copa América,\\nwinning the Golden Ball in the 2015 edition. After announcing his international retirement in 2016, he\\nreversed his decision and led his country to qualification for the 2018 FIFA World Cup, a third-place\\nfinish at the 2019 Copa América, and won the 2021 Copa América, while winning the Golden Ball\\nand Golden Boot award for the latter. This achievement would see him receive a record seventh\\nBallon d'Or in 2021.\\nMessi has endorsed sportswear company Adidas since 2006. According to France Football, he was\\nthe world's highest-paid footballer for five years out of six between 2009 and 2014, and was ranked\\nthe world's highest-paid athlete by Forbes in 2019 and 2022.[11] Messi was among Time's 100 most\\ninfluential people in the world in 2011 and 2012. In February 2020, he was awarded the Laureus\\nWorld Sportsman of the Year, thus becoming the first footballer and the first team sport athlete to win\\nthe award. Later that year, Messi became the second footballer (and second team-sport athlete) to\\nsurpass $1 billion in career earnings.\\n\""
      ]
     },
     "execution_count": 84,
     "metadata": {},
     "output_type": "execute_result"
    }
   ],
   "source": [
    "text1 = page.get_text()\n",
    "text2 = page2.get_text()\n",
    "text = text1 + text2\n",
    "text"
   ]
  },
  {
   "cell_type": "code",
   "execution_count": 54,
   "id": "e73cb46c",
   "metadata": {},
   "outputs": [
    {
     "data": {
      "text/plain": [
       "Pixmap(DeviceRGB, IRect(0, 0, 612, 792), 0)"
      ]
     },
     "execution_count": 54,
     "metadata": {},
     "output_type": "execute_result"
    }
   ],
   "source": [
    "pix = page.get_pixmap()\n",
    "pix"
   ]
  },
  {
   "cell_type": "code",
   "execution_count": 64,
   "id": "abebc5b5",
   "metadata": {},
   "outputs": [],
   "source": [
    "pix.save(\"page-%i.png\" % page.number) # saving the content of the page in image file"
   ]
  },
  {
   "cell_type": "code",
   "execution_count": null,
   "id": "71b74f0c",
   "metadata": {},
   "outputs": [],
   "source": []
  },
  {
   "cell_type": "code",
   "execution_count": null,
   "id": "a5717656",
   "metadata": {},
   "outputs": [],
   "source": []
  },
  {
   "cell_type": "code",
   "execution_count": null,
   "id": "3e5ed667",
   "metadata": {},
   "outputs": [],
   "source": []
  },
  {
   "cell_type": "code",
   "execution_count": null,
   "id": "79c4ff80",
   "metadata": {},
   "outputs": [],
   "source": [
    "# ! pip install tika"
   ]
  },
  {
   "cell_type": "code",
   "execution_count": 101,
   "id": "23d1a6d6",
   "metadata": {},
   "outputs": [
    {
     "data": {
      "text/plain": [
       "'\\n\\n\\n\\n\\n\\n\\n\\n\\n\\n\\n\\n\\n\\n\\n\\n\\n\\n\\n\\n\\n\\n\\n\\n\\nsegmentation dummy\\n\\n\\nIntroduction\\nThis is a introduction section. this contains the brief information about the topic.\\n\\nLiterature review\\nThis ia a literature review. this contains the information about what has already happened in the\\nfiled.\\n\\nTheory\\nThis contains the background related theory. All the concepts used in the research or project.\\n\\nConclusion\\nThis contains the concluding text. What were the outputs from the project.\\n\\nMessi\\n\\n\\n'"
      ]
     },
     "execution_count": 101,
     "metadata": {},
     "output_type": "execute_result"
    }
   ],
   "source": [
    "from tika import parser  \n",
    "\n",
    "parsed_pdf = parser.from_file(\"files/test.pdf\")\n",
    "\n",
    "data = parsed_pdf['content'] \n",
    "\n",
    "data # segmentation dummy is the original title of pdf in google docs when I created, and later named test.pdf during download"
   ]
  },
  {
   "cell_type": "code",
   "execution_count": null,
   "id": "11bed97e",
   "metadata": {},
   "outputs": [],
   "source": []
  },
  {
   "cell_type": "code",
   "execution_count": null,
   "id": "b8edfd4f",
   "metadata": {},
   "outputs": [],
   "source": []
  },
  {
   "cell_type": "code",
   "execution_count": null,
   "id": "470382c3",
   "metadata": {},
   "outputs": [],
   "source": []
  },
  {
   "cell_type": "code",
   "execution_count": 120,
   "id": "67b990dd",
   "metadata": {},
   "outputs": [],
   "source": [
    "# ! pip install python-pdfbox"
   ]
  },
  {
   "cell_type": "code",
   "execution_count": 109,
   "id": "d766d0e0",
   "metadata": {},
   "outputs": [
    {
     "name": "stdout",
     "output_type": "stream",
     "text": [
      "None\n"
     ]
    }
   ],
   "source": [
    "import pdfbox\n",
    "\n",
    "p = pdfbox.PDFBox()\n",
    "text = p.extract_text('files/test.pdf')\n",
    "print(text)"
   ]
  },
  {
   "cell_type": "code",
   "execution_count": null,
   "id": "06c527ba",
   "metadata": {},
   "outputs": [],
   "source": []
  },
  {
   "cell_type": "code",
   "execution_count": null,
   "id": "1becf309",
   "metadata": {},
   "outputs": [],
   "source": []
  },
  {
   "cell_type": "code",
   "execution_count": null,
   "id": "cc7fe5b6",
   "metadata": {},
   "outputs": [],
   "source": []
  },
  {
   "cell_type": "code",
   "execution_count": 121,
   "id": "4052398c",
   "metadata": {},
   "outputs": [],
   "source": [
    "# ! pip install pdfplumber"
   ]
  },
  {
   "cell_type": "code",
   "execution_count": 1,
   "id": "fb716b5d",
   "metadata": {},
   "outputs": [
    {
     "data": {
      "text/plain": [
       "'Introduction\\nThis is a introduction section. this contains the brief information about the topic.\\nLiterature review\\nThis ia a literature review. this contains the information about what has already happened in the\\nfiled.\\nTheory\\nThis contains the background related theory. All the concepts used in the research or project.\\nConclusion\\nThis contains the concluding text. What were the outputs from the project.\\nMessi'"
      ]
     },
     "execution_count": 1,
     "metadata": {},
     "output_type": "execute_result"
    }
   ],
   "source": [
    "import pdfplumber\n",
    "\n",
    "with pdfplumber.open(\"files/test.pdf\") as pdf:\n",
    "    page = pdf.pages[0]\n",
    "    text = page.extract_text()\n",
    "text"
   ]
  },
  {
   "cell_type": "code",
   "execution_count": null,
   "id": "da2d2ddd",
   "metadata": {},
   "outputs": [],
   "source": []
  },
  {
   "cell_type": "code",
   "execution_count": null,
   "id": "5a6dc143",
   "metadata": {},
   "outputs": [],
   "source": []
  },
  {
   "cell_type": "code",
   "execution_count": null,
   "id": "f94e196b",
   "metadata": {},
   "outputs": [],
   "source": []
  },
  {
   "cell_type": "code",
   "execution_count": null,
   "id": "2690387c",
   "metadata": {},
   "outputs": [],
   "source": []
  },
  {
   "cell_type": "code",
   "execution_count": null,
   "id": "f0bbfd84",
   "metadata": {},
   "outputs": [],
   "source": []
  },
  {
   "cell_type": "code",
   "execution_count": 122,
   "id": "a4c3e4fa",
   "metadata": {},
   "outputs": [],
   "source": [
    "# ! pip install PyPDF2"
   ]
  },
  {
   "cell_type": "code",
   "execution_count": 9,
   "id": "1da6fb56",
   "metadata": {},
   "outputs": [
    {
     "name": "stdout",
     "output_type": "stream",
     "text": [
      "IntroductionThis is a introduction section. this contains the brief information about the topic.Literature reviewThis ia a literature review. this contains the information about what has already happened in thefiled.TheoryThis contains the background related theory. All the concepts used in the research or project.ConclusionThis contains the concluding text. What were the outputs from the project.Messi\n"
     ]
    }
   ],
   "source": [
    "import PyPDF2\n",
    "pdfFileObj = open('files/test.pdf', 'rb') \n",
    "pdfReader = PyPDF2.PdfFileReader(pdfFileObj)\n",
    "\n",
    "pages = pdfReader.numPages\n",
    "pageObj = pdfReader.getPage(0)\n",
    "text = pageObj.extractText()\n",
    "\n",
    "print(text)"
   ]
  },
  {
   "cell_type": "code",
   "execution_count": 222,
   "id": "62250366",
   "metadata": {},
   "outputs": [
    {
     "name": "stdout",
     "output_type": "stream",
     "text": [
      "IntroductionThis is a introduction section. this contains the brief information about the topic.Literature reviewThis ia a literature review. this contains the information about what has already happened in thefiled.TheoryThis contains the background related theory. All the concepts used in the research or project.ConclusionThis contains the concluding text. What were the outputs from the project.MessiLionel Andrés Messi[note 1](Spanish pronunciation:[ljoˈnel anˈdɾes ˈmesi](listen); born 24 June1987), also known asLeo Messi, is an Argentine professionalfootballerwho plays as aforwardforLigue 1clubParis Saint-GermainandcaptainstheArgentina national team. Often considered thebest player in the world and widely regarded as one of the greatest players of all time, Messi haswon a record sevenBallon d'Orawards,[note 2]a recordsixEuropean Golden Shoes, and in 2020was named to theBallon d'Or Dream Team. Until leavingthe club in 2021, he had spent his entireprofessional career withBarcelona, where he won aclub-record35 trophies, including tenLa Ligatitles, sevenCopa del Reytitles and fourUEFA ChampionsLeagues. A prolific goalscorer andcreative playmaker, Messi holds the records formostgoals in La Liga(474),a La Ligaand Europeanleague season (50),most hat-tricks in La Liga(36)and theUEFA Champions League(8), and mostassistsin La Liga (192), aLa Ligaseason (21) andtheCopa América(17). He also holds the recordformost international goalsby a South American male(86). Messi has scored over750 seniorcareer goalsfor club and country, and has the mostgoals by a player for a single club.Born and raised in central Argentina, Messi relocated to Spain to join Barcelona at the age of 13, forwhom he made his competitive debut aged 17 in October 2004. He established himself as anintegral player for the club within the next three years, and in his first uninterrupted season in2008–09he helped Barcelona achieve the first treblein Spanish football; that year, aged 22, Messiwon his firstBallon d'Or. Three successful seasonsfollowed, with Messi winning four consecutiveBallons d'Or, making him the first player to win the award four times and in a row .[10]During the2011–12 season, he set the La Liga and European records for most goals scored in a single season,while establishing himself asBarcelona's all-timetop scorer. The following two seasons, Messifinished second for theBallon d'OrbehindCristianoRonaldo(his perceivedcareer rival), beforeregaining his best form during the2014–15 campaign,becoming the all-time top scorer in La Ligaand leading Barcelona to a historic second treble, after which he was awarded a fifth Ballon d'Or in2015. Messi assumed captaincy of Barcelona in 2018, and in 2019 he won a recordsixth Ballond'Or. Out of contract, he signed for Paris Saint-Germain in August 2021.An Argentine international, Messi holds the nationalrecord for appearancesand is also the country'sall-time leading goalscorer. At youth level, he wonthe2005 FIFA World Youth Championship,finishing the tournament with both theGolden Balland Golden Shoe, and anOlympic gold medalatthe2008 Summer Olympics. His style of play as a diminutive, left-footeddribblerdrew comparisons\n",
      "with his compatriotDiego Maradona, who described Messi as hissuccessor. After his senior debutin August 2005, Messi became the youngest  Argentine to play and score in a FIFA World Cupin2006, and reached the final of the2007 Copa América,where he was named young player of thetournament. As the squad's captain from August 2011, he led Argentina to three consecutive finals:the2014 FIFA World Cup, for which he won theGoldenBall, and the2015and2016 Copa América,winning theGolden Ballin the 2015 edition. Afterannouncing his international retirement in 2016, hereversed his decision and led his country to qualification for the2018 FIFA World Cup, a third-placefinish at the2019 Copa América, and won the2021Copa América, while winning theGolden BallandGolden Bootaward for the latter. This achievementwould see him receive a recordseventhBallon d'Orin 2021.Messi has endorsed sportswear companyAdidassince2006. According toFrance Football, he wasthe world's highest-paid footballer for five years out of six between 2009 and 2014, and was rankedtheworld's highest-paid athletebyForbesin 2019and 2022.[11]Messi was amongTime's100 mostinfluential people in the worldin 2011 and 2012.In February 2020, he was awarded the LaureusWorld Sportsman of the Year, thus becoming the firstfootballer and the first team sport athlete to winthe award. Later that year, Messi became the second footballer (and second team-sport athlete) tosurpass $1 billion in career earnings.\n"
     ]
    }
   ],
   "source": [
    "''' Reading the multipage pdf '''\n",
    "\n",
    "import PyPDF2\n",
    "\n",
    "mypdf = open('example.pdf', mode='rb')\n",
    "pdf_document = PyPDF2.PdfFileReader(mypdf)\n",
    "\n",
    "x= ''\n",
    "\n",
    "for i in range(pdf_document.numPages):\n",
    "    page_to_print = pdf_document.getPage(i)\n",
    "    x = x + page_to_print.extractText()\n",
    "print(x)"
   ]
  },
  {
   "cell_type": "code",
   "execution_count": 10,
   "id": "1e433850",
   "metadata": {},
   "outputs": [
    {
     "data": {
      "text/plain": [
       "'IntroductionThis is a introduction section. this contains the brief information about the topic.Literature reviewThis ia a literature review. this contains the information about what has already happened in thefiled.TheoryThis contains the background related theory. All the concepts used in the research or project.ConclusionThis contains the concluding text. What were the outputs from the project.Messi'"
      ]
     },
     "execution_count": 10,
     "metadata": {},
     "output_type": "execute_result"
    }
   ],
   "source": [
    "from PyPDF2 import PdfReader\n",
    "\n",
    "reader = PdfReader(\"files/test.pdf\")\n",
    "number_of_pages = len(reader.pages)\n",
    "page = reader.pages[0]\n",
    "text = page.extract_text()\n",
    "text"
   ]
  },
  {
   "cell_type": "code",
   "execution_count": 147,
   "id": "d03806fb",
   "metadata": {},
   "outputs": [
    {
     "name": "stdout",
     "output_type": "stream",
     "text": [
      "segmentation dummy\n",
      "None\n"
     ]
    }
   ],
   "source": [
    "information = reader.getDocumentInfo()\n",
    "\n",
    "meta = reader.metadata\n",
    "print(meta.title)\n",
    "print(meta.subject)"
   ]
  },
  {
   "cell_type": "code",
   "execution_count": 12,
   "id": "191366dd",
   "metadata": {},
   "outputs": [],
   "source": [
    "# writing pdf contents to a new .txt file\n",
    "\n",
    "f = open(\"files/demofile.txt\", \"a\")\n",
    "f.write(text)\n",
    "f.close()"
   ]
  },
  {
   "cell_type": "code",
   "execution_count": null,
   "id": "8613d5c3",
   "metadata": {},
   "outputs": [],
   "source": []
  },
  {
   "cell_type": "code",
   "execution_count": null,
   "id": "3378c872",
   "metadata": {},
   "outputs": [],
   "source": []
  },
  {
   "cell_type": "code",
   "execution_count": null,
   "id": "3dd64d11",
   "metadata": {},
   "outputs": [],
   "source": []
  },
  {
   "cell_type": "code",
   "execution_count": null,
   "id": "24f75c70",
   "metadata": {},
   "outputs": [],
   "source": []
  },
  {
   "cell_type": "code",
   "execution_count": null,
   "id": "37b1beba",
   "metadata": {},
   "outputs": [],
   "source": []
  },
  {
   "cell_type": "code",
   "execution_count": 215,
   "id": "0326f632",
   "metadata": {},
   "outputs": [],
   "source": [
    "text = \"\"\"Introduction\n",
    "This is a introduction section. this contains the brief information about the topic.\n",
    "\n",
    "Literature review\n",
    "This ia a literature review. this contains the information about what has already happened in the field.\n",
    "\n",
    "Theory\n",
    "This contains the background related theory. All the concepts used in the research or project.\n",
    "\n",
    "Conclusion\n",
    "This contains the concluding text. What were the outputs from the project.\"\"\""
   ]
  },
  {
   "cell_type": "code",
   "execution_count": 216,
   "id": "1e591edc",
   "metadata": {},
   "outputs": [],
   "source": [
    "import nltk\n",
    "from nltk.stem import PorterStemmer"
   ]
  },
  {
   "cell_type": "code",
   "execution_count": 217,
   "id": "1d167792",
   "metadata": {},
   "outputs": [
    {
     "data": {
      "text/plain": [
       "['Introduction\\nThis is a introduction section. this contains the brief information about the topic.',\n",
       " 'Literature review\\nThis ia a literature review. this contains the information about what has already happened in the field.',\n",
       " 'Theory\\nThis contains the background related theory. All the concepts used in the research or project.',\n",
       " 'Conclusion\\nThis contains the concluding text. What were the outputs from the project.']"
      ]
     },
     "execution_count": 217,
     "metadata": {},
     "output_type": "execute_result"
    }
   ],
   "source": [
    "sentence = text.split('\\n\\n')\n",
    "sentence"
   ]
  },
  {
   "cell_type": "code",
   "execution_count": 218,
   "id": "20b6cabf",
   "metadata": {},
   "outputs": [
    {
     "data": {
      "text/plain": [
       "4"
      ]
     },
     "execution_count": 218,
     "metadata": {},
     "output_type": "execute_result"
    }
   ],
   "source": [
    "len(sentence)"
   ]
  },
  {
   "cell_type": "code",
   "execution_count": 219,
   "id": "16397598",
   "metadata": {},
   "outputs": [
    {
     "data": {
      "text/plain": [
       "[['Introduction',\n",
       "  'This is a introduction section. this contains the brief information about the topic.'],\n",
       " ['Literature review',\n",
       "  'This ia a literature review. this contains the information about what has already happened in the field.'],\n",
       " ['Theory',\n",
       "  'This contains the background related theory. All the concepts used in the research or project.'],\n",
       " ['Conclusion',\n",
       "  'This contains the concluding text. What were the outputs from the project.']]"
      ]
     },
     "execution_count": 219,
     "metadata": {},
     "output_type": "execute_result"
    }
   ],
   "source": [
    "further = []\n",
    "for sent in sentence:\n",
    "    more = sent.split('\\n')\n",
    "    further.append(more)\n",
    "further"
   ]
  },
  {
   "cell_type": "code",
   "execution_count": 220,
   "id": "f5fce80b",
   "metadata": {},
   "outputs": [
    {
     "name": "stdout",
     "output_type": "stream",
     "text": [
      "Introduction\n",
      "Literature review\n",
      "Theory\n",
      "Conclusion\n"
     ]
    }
   ],
   "source": [
    "for i in range(0, len(further)):\n",
    "    print(further[i][0])"
   ]
  },
  {
   "cell_type": "code",
   "execution_count": 221,
   "id": "e78a9c16",
   "metadata": {},
   "outputs": [
    {
     "name": "stdout",
     "output_type": "stream",
     "text": [
      "Introduction\n",
      "This is a introduction section. this contains the brief information about the topic.\n",
      "\n",
      "\n",
      "Literature review\n",
      "This ia a literature review. this contains the information about what has already happened in the field.\n",
      "\n",
      "\n",
      "Theory\n",
      "This contains the background related theory. All the concepts used in the research or project.\n",
      "\n",
      "\n",
      "Conclusion\n",
      "This contains the concluding text. What were the outputs from the project.\n",
      "\n",
      "\n"
     ]
    }
   ],
   "source": [
    "for i in range(0, len(further)):\n",
    "    print(further[i][0])\n",
    "    print(further[i][1])\n",
    "    print('\\n')"
   ]
  },
  {
   "cell_type": "code",
   "execution_count": null,
   "id": "d148d3b8",
   "metadata": {},
   "outputs": [],
   "source": []
  },
  {
   "cell_type": "code",
   "execution_count": null,
   "id": "21b37a79",
   "metadata": {},
   "outputs": [],
   "source": []
  }
 ],
 "metadata": {
  "kernelspec": {
   "display_name": "Python 3 (ipykernel)",
   "language": "python",
   "name": "python3"
  },
  "language_info": {
   "codemirror_mode": {
    "name": "ipython",
    "version": 3
   },
   "file_extension": ".py",
   "mimetype": "text/x-python",
   "name": "python",
   "nbconvert_exporter": "python",
   "pygments_lexer": "ipython3",
   "version": "3.8.13"
  }
 },
 "nbformat": 4,
 "nbformat_minor": 5
}
